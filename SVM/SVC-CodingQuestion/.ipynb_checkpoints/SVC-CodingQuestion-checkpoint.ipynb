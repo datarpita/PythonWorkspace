{
 "cells": [
  {
   "cell_type": "code",
   "execution_count": 1,
   "metadata": {},
   "outputs": [],
   "source": [
    "import numpy as np\n",
    "import pandas as pd\n",
    "from sklearn import metrics"
   ]
  },
  {
   "cell_type": "code",
   "execution_count": 3,
   "metadata": {},
   "outputs": [],
   "source": [
    "# read training data pp-trial3\n",
    "diabetes_train = pd.read_csv(\"diabetes_train.csv\")"
   ]
  },
  {
   "cell_type": "code",
   "execution_count": 4,
   "metadata": {},
   "outputs": [],
   "source": [
    "# read test data\n",
    "diabetes_test = pd.read_csv(\"diabetes_test.csv\")"
   ]
  },
  {
   "cell_type": "code",
   "execution_count": 5,
   "metadata": {},
   "outputs": [
    {
     "data": {
      "text/html": [
       "<div>\n",
       "<style scoped>\n",
       "    .dataframe tbody tr th:only-of-type {\n",
       "        vertical-align: middle;\n",
       "    }\n",
       "\n",
       "    .dataframe tbody tr th {\n",
       "        vertical-align: top;\n",
       "    }\n",
       "\n",
       "    .dataframe thead th {\n",
       "        text-align: right;\n",
       "    }\n",
       "</style>\n",
       "<table border=\"1\" class=\"dataframe\">\n",
       "  <thead>\n",
       "    <tr style=\"text-align: right;\">\n",
       "      <th></th>\n",
       "      <th>No_Times_Pregnant</th>\n",
       "      <th>Plasma_Glucose</th>\n",
       "      <th>Diastolic_BP</th>\n",
       "      <th>Triceps</th>\n",
       "      <th>Insulin</th>\n",
       "      <th>BMI</th>\n",
       "      <th>Age</th>\n",
       "      <th>Diabetes</th>\n",
       "      <th>id</th>\n",
       "    </tr>\n",
       "  </thead>\n",
       "  <tbody>\n",
       "    <tr>\n",
       "      <th>0</th>\n",
       "      <td>0.529042</td>\n",
       "      <td>0.012069</td>\n",
       "      <td>0.267022</td>\n",
       "      <td>1.032156</td>\n",
       "      <td>-0.665222</td>\n",
       "      <td>0.144255</td>\n",
       "      <td>-0.280841</td>\n",
       "      <td>0</td>\n",
       "      <td>336</td>\n",
       "    </tr>\n",
       "    <tr>\n",
       "      <th>1</th>\n",
       "      <td>-0.405123</td>\n",
       "      <td>-0.765617</td>\n",
       "      <td>-0.853328</td>\n",
       "      <td>-1.154899</td>\n",
       "      <td>0.033186</td>\n",
       "      <td>0.499992</td>\n",
       "      <td>-0.967063</td>\n",
       "      <td>0</td>\n",
       "      <td>379</td>\n",
       "    </tr>\n",
       "    <tr>\n",
       "      <th>2</th>\n",
       "      <td>-0.093734</td>\n",
       "      <td>0.238894</td>\n",
       "      <td>0.587122</td>\n",
       "      <td>-0.584363</td>\n",
       "      <td>-0.648393</td>\n",
       "      <td>-0.666826</td>\n",
       "      <td>0.307350</td>\n",
       "      <td>1</td>\n",
       "      <td>375</td>\n",
       "    </tr>\n",
       "    <tr>\n",
       "      <th>3</th>\n",
       "      <td>-0.716511</td>\n",
       "      <td>-0.636003</td>\n",
       "      <td>-3.254079</td>\n",
       "      <td>0.841977</td>\n",
       "      <td>-0.614735</td>\n",
       "      <td>1.453368</td>\n",
       "      <td>0.209318</td>\n",
       "      <td>0</td>\n",
       "      <td>8</td>\n",
       "    </tr>\n",
       "    <tr>\n",
       "      <th>4</th>\n",
       "      <td>-0.405123</td>\n",
       "      <td>-0.409178</td>\n",
       "      <td>0.267022</td>\n",
       "      <td>-0.013827</td>\n",
       "      <td>-0.261323</td>\n",
       "      <td>-0.097646</td>\n",
       "      <td>-0.378873</td>\n",
       "      <td>0</td>\n",
       "      <td>36</td>\n",
       "    </tr>\n",
       "  </tbody>\n",
       "</table>\n",
       "</div>"
      ],
      "text/plain": [
       "   No_Times_Pregnant  Plasma_Glucose  Diastolic_BP   Triceps   Insulin  \\\n",
       "0           0.529042        0.012069      0.267022  1.032156 -0.665222   \n",
       "1          -0.405123       -0.765617     -0.853328 -1.154899  0.033186   \n",
       "2          -0.093734        0.238894      0.587122 -0.584363 -0.648393   \n",
       "3          -0.716511       -0.636003     -3.254079  0.841977 -0.614735   \n",
       "4          -0.405123       -0.409178      0.267022 -0.013827 -0.261323   \n",
       "\n",
       "        BMI       Age  Diabetes   id  \n",
       "0  0.144255 -0.280841         0  336  \n",
       "1  0.499992 -0.967063         0  379  \n",
       "2 -0.666826  0.307350         1  375  \n",
       "3  1.453368  0.209318         0    8  \n",
       "4 -0.097646 -0.378873         0   36  "
      ]
     },
     "execution_count": 5,
     "metadata": {},
     "output_type": "execute_result"
    }
   ],
   "source": [
    "diabetes_train.head()"
   ]
  },
  {
   "cell_type": "code",
   "execution_count": null,
   "metadata": {},
   "outputs": [],
   "source": []
  },
  {
   "cell_type": "code",
   "execution_count": null,
   "metadata": {},
   "outputs": [],
   "source": [
    "# Divide training data into x_train and y_train\n",
    "x_train = diabetes_train.iloc[:, :7]\n",
    "y_train = diabetes_train.iloc[:, 7]\n"
   ]
  },
  {
   "cell_type": "code",
   "execution_count": null,
   "metadata": {},
   "outputs": [],
   "source": [
    "# Create SVC() object"
   ]
  },
  {
   "cell_type": "code",
   "execution_count": null,
   "metadata": {},
   "outputs": [],
   "source": [
    "# Fit the model "
   ]
  },
  {
   "cell_type": "code",
   "execution_count": null,
   "metadata": {},
   "outputs": [],
   "source": [
    "# Make predictions\n",
    "# print(diabetes_test.head())\n",
    "# predictions ="
   ]
  },
  {
   "cell_type": "code",
   "execution_count": null,
   "metadata": {},
   "outputs": [],
   "source": [
    "# manually observe the first 10 predictions\n",
    "# predictions[:10]"
   ]
  },
  {
   "cell_type": "code",
   "execution_count": null,
   "metadata": {},
   "outputs": [],
   "source": [
    "# Write the columns id, predictions into the output file\n",
    "# Code is already written\n",
    "d = pd.DataFrame({'id': diabetes_test['id'], 'Diabetes_Predicted': predictions})\n",
    "d.to_csv('/code/output/diabetes_predictions.csv', sep=\",\")"
   ]
  },
  {
   "cell_type": "code",
   "execution_count": null,
   "metadata": {},
   "outputs": [],
   "source": []
  },
  {
   "cell_type": "code",
   "execution_count": null,
   "metadata": {},
   "outputs": [],
   "source": []
  },
  {
   "cell_type": "code",
   "execution_count": null,
   "metadata": {},
   "outputs": [],
   "source": []
  },
  {
   "cell_type": "code",
   "execution_count": null,
   "metadata": {},
   "outputs": [],
   "source": []
  },
  {
   "cell_type": "code",
   "execution_count": null,
   "metadata": {},
   "outputs": [],
   "source": []
  },
  {
   "cell_type": "code",
   "execution_count": null,
   "metadata": {},
   "outputs": [],
   "source": []
  },
  {
   "cell_type": "code",
   "execution_count": null,
   "metadata": {},
   "outputs": [],
   "source": []
  },
  {
   "cell_type": "code",
   "execution_count": null,
   "metadata": {},
   "outputs": [],
   "source": []
  }
 ],
 "metadata": {
  "kernelspec": {
   "display_name": "Python 3",
   "language": "python",
   "name": "python3"
  },
  "language_info": {
   "codemirror_mode": {
    "name": "ipython",
    "version": 3
   },
   "file_extension": ".py",
   "mimetype": "text/x-python",
   "name": "python",
   "nbconvert_exporter": "python",
   "pygments_lexer": "ipython3",
   "version": "3.7.1"
  }
 },
 "nbformat": 4,
 "nbformat_minor": 2
}

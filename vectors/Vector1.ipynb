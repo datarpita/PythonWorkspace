{
 "cells": [
  {
   "cell_type": "code",
   "execution_count": 2,
   "metadata": {},
   "outputs": [],
   "source": [
    "import numpy as np"
   ]
  },
  {
   "cell_type": "code",
   "execution_count": 3,
   "metadata": {},
   "outputs": [
    {
     "name": "stdout",
     "output_type": "stream",
     "text": [
      "[-2.   0.5 -1. ]\n"
     ]
    }
   ],
   "source": [
    "# system of three equations\n",
    "A = np.array([[2, 6, -1], \n",
    "              [1, 2, -2], \n",
    "              [-5,0, 2]])\n",
    "b = np.array([0, 1, 8])\n",
    "\n",
    "# compute the inverse\n",
    "A_inv = np.linalg.inv(A)\n",
    "\n",
    "# solution: A_inv * b\n",
    "x = np.dot(A_inv, b)\n",
    "print(x) # returns [ 0.  0. -1.]"
   ]
  },
  {
   "cell_type": "code",
   "execution_count": 4,
   "metadata": {},
   "outputs": [
    {
     "name": "stdout",
     "output_type": "stream",
     "text": [
      "[-3. 13.]\n",
      "[[-0.78935222 -0.70710678]\n",
      " [ 0.61394061 -0.70710678]]\n"
     ]
    }
   ],
   "source": [
    "# calculate eigenvalues and eigenvectors\n",
    "A = np.array([[4, 9], \n",
    "              [7, 6]])\n",
    "\n",
    "# c is the array of eigenvalues\n",
    "# v is the matrix with eigenvectors as the columns\n",
    "c, v = np.linalg.eig(A)\n",
    "print(c)\n",
    "print(v)"
   ]
  },
  {
   "cell_type": "code",
   "execution_count": null,
   "metadata": {},
   "outputs": [],
   "source": []
  }
 ],
 "metadata": {
  "kernelspec": {
   "display_name": "Python 3",
   "language": "python",
   "name": "python3"
  },
  "language_info": {
   "codemirror_mode": {
    "name": "ipython",
    "version": 3
   },
   "file_extension": ".py",
   "mimetype": "text/x-python",
   "name": "python",
   "nbconvert_exporter": "python",
   "pygments_lexer": "ipython3",
   "version": "3.7.0"
  }
 },
 "nbformat": 4,
 "nbformat_minor": 2
}

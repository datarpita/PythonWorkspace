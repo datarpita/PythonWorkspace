{
 "cells": [
  {
   "cell_type": "code",
   "execution_count": 16,
   "metadata": {},
   "outputs": [],
   "source": [
    "import numpy as np\n",
    "from TCGame_Env1 import TicTacToe\n",
    "import random\n",
    "import collections"
   ]
  },
  {
   "cell_type": "code",
   "execution_count": 2,
   "metadata": {},
   "outputs": [
    {
     "name": "stdout",
     "output_type": "stream",
     "text": [
      "States initialized--- [nan, nan, nan, nan, nan, nan, nan, nan, nan]\n",
      "Initialize all states--- [1, 2, 3, 4, 5, 6, 7, 8, 9]\n"
     ]
    }
   ],
   "source": [
    "t = TicTacToe()"
   ]
  },
  {
   "cell_type": "code",
   "execution_count": 3,
   "metadata": {},
   "outputs": [],
   "source": [
    "curr_state=[5,np.nan,8,np.nan, np.nan, np.nan, np.nan, np.nan, np.nan]"
   ]
  },
  {
   "cell_type": "code",
   "execution_count": null,
   "metadata": {},
   "outputs": [],
   "source": [
    "###agent_actions, env_actions = t.action_space(curr_state)"
   ]
  },
  {
   "cell_type": "code",
   "execution_count": null,
   "metadata": {},
   "outputs": [],
   "source": [
    "###agent_actions_list = list(agent_actions) \n",
    "###print(agent_actions_list)"
   ]
  },
  {
   "cell_type": "code",
   "execution_count": null,
   "metadata": {},
   "outputs": [],
   "source": [
    "###env_actions_list = list(env_actions)\n",
    "###print(env_actions_list)"
   ]
  },
  {
   "cell_type": "code",
   "execution_count": null,
   "metadata": {},
   "outputs": [],
   "source": [
    "###t.checkrow(curr_state)"
   ]
  },
  {
   "cell_type": "code",
   "execution_count": 4,
   "metadata": {},
   "outputs": [
    {
     "name": "stdout",
     "output_type": "stream",
     "text": [
      "Current State--- [5, nan, 8, nan, nan, nan, nan, nan, nan]\n",
      "current state is not a winning position\n",
      "Current state--> [5, nan, 8, nan, nan, nan, nan, nan, nan]    curr_action---> [5, 1]\n",
      "In if\n",
      "After change--> [5, nan, 8, nan, nan, 1, nan, nan, nan]\n",
      "Current State--- [5, nan, 8, nan, nan, 1, nan, nan, nan]\n",
      "current state is not a winning position\n",
      "Environment - action space----> [(1, 2), (1, 4), (1, 6), (3, 2), (3, 4), (3, 6), (4, 2), (4, 4), (4, 6), (6, 2), (6, 4), (6, 6), (7, 2), (7, 4), (7, 6), (8, 2), (8, 4), (8, 6)]\n",
      "Env. action-> (6, 4)\n",
      "Current state--> [5, nan, 8, nan, nan, 1, nan, nan, nan]    curr_action---> (6, 4)\n",
      "In if\n",
      "After change--> [5, nan, 8, nan, nan, 1, 4, nan, nan]\n",
      "Current State--- [5, nan, 8, nan, nan, 1, 4, nan, nan]\n",
      "current state is not a winning position\n",
      "new state-> [5, nan, 8, nan, nan, 1, 4, nan, nan]   reward-> -1    state terminal-> False\n"
     ]
    }
   ],
   "source": [
    "new_env_state, reward, stateTerm = t.step(curr_state, [5,1])"
   ]
  },
  {
   "cell_type": "code",
   "execution_count": 5,
   "metadata": {},
   "outputs": [
    {
     "name": "stdout",
     "output_type": "stream",
     "text": [
      "Current State--- [5, nan, 8, nan, nan, 1, 4, nan, nan]\n",
      "current state is not a winning position\n",
      "Current state--> [5, nan, 8, nan, nan, 1, 4, nan, nan]    curr_action---> [6, 7]\n",
      "After change--> [5, nan, 8, nan, nan, 1, 4, nan, nan]\n",
      "Current State--- [5, nan, 8, nan, nan, 1, 4, nan, nan]\n",
      "current state is not a winning position\n",
      "Environment - action space----> [(1, 2), (1, 6), (3, 2), (3, 6), (4, 2), (4, 6), (7, 2), (7, 6), (8, 2), (8, 6)]\n",
      "Env. action-> (7, 6)\n",
      "Current state--> [5, nan, 8, nan, nan, 1, 4, nan, nan]    curr_action---> (7, 6)\n",
      "In if\n",
      "After change--> [5, nan, 8, nan, nan, 1, 4, 6, nan]\n",
      "Current State--- [5, nan, 8, nan, nan, 1, 4, 6, nan]\n",
      "current state is not a winning position\n",
      "new state-> [5, nan, 8, nan, nan, 1, 4, 6, nan]   reward-> -1    state terminal-> False\n"
     ]
    }
   ],
   "source": [
    "new_env_state2, reward2, stateTerm2 = t.step(new_env_state, [6,7])"
   ]
  },
  {
   "cell_type": "code",
   "execution_count": null,
   "metadata": {},
   "outputs": [],
   "source": []
  },
  {
   "cell_type": "code",
   "execution_count": null,
   "metadata": {},
   "outputs": [],
   "source": []
  },
  {
   "cell_type": "code",
   "execution_count": null,
   "metadata": {},
   "outputs": [],
   "source": []
  },
  {
   "cell_type": "code",
   "execution_count": null,
   "metadata": {},
   "outputs": [],
   "source": []
  },
  {
   "cell_type": "code",
   "execution_count": null,
   "metadata": {},
   "outputs": [],
   "source": []
  },
  {
   "cell_type": "code",
   "execution_count": null,
   "metadata": {},
   "outputs": [],
   "source": []
  },
  {
   "cell_type": "code",
   "execution_count": null,
   "metadata": {},
   "outputs": [],
   "source": []
  },
  {
   "cell_type": "code",
   "execution_count": null,
   "metadata": {},
   "outputs": [],
   "source": []
  },
  {
   "cell_type": "code",
   "execution_count": null,
   "metadata": {},
   "outputs": [],
   "source": [
    "s = [(1,1),(2,1),(4,3),(6,1),(1,7),(3,6)]\n",
    "i = s[random.randrange(len(s))]\n",
    "print(i)"
   ]
  },
  {
   "cell_type": "code",
   "execution_count": 8,
   "metadata": {},
   "outputs": [
    {
     "name": "stdout",
     "output_type": "stream",
     "text": [
      "Current state--> [5, nan, 8, nan, nan, nan, nan, nan, nan]    curr_action---> 5\n",
      "In if\n",
      "After change--> [5, nan, 8, nan, nan, 1, nan, nan, nan]\n"
     ]
    }
   ],
   "source": [
    "curr_state = [5, np.nan, 8, np.nan, np.nan, np.nan, np.nan, np.nan, np.nan]\n",
    "curr_action = [5, 1]\n",
    "print('Current state-->',curr_state, '   curr_action--->',curr_action[0])\n",
    "if np.isnan(curr_state[curr_action[0]]):\n",
    "    print('In if')\n",
    "    curr_state[curr_action[0]]=curr_action[1] ### TODO: need to add +1\n",
    "print('After change-->',curr_state)"
   ]
  },
  {
   "cell_type": "code",
   "execution_count": null,
   "metadata": {},
   "outputs": [],
   "source": []
  },
  {
   "cell_type": "code",
   "execution_count": 2,
   "metadata": {},
   "outputs": [],
   "source": [
    "Q_dict={'x-x-x-x-x-x-x-x-x': {(0, 1): 0, (0, 3): 0, (0, 5): 0, (0, 7): 0, (0, 9): 0, (1, 1): 0, (1, 3): 0, (1, 5): 0, (1, 7): 0, (1, 9): 0, (2, 1): -0.01, (2, 3): 0, (2, 5): 0, (2, 7): 0, (2, 9): 0, (3, 1): 0, (3, 3): 0, (3, 5): 0, (3, 7): 0, (3, 9): 0, (4, 1): 0, (4, 3): 0, (4, 5): 0, (4, 7): 0, (4, 9): 0, (5, 1): 0, (5, 3): 0, (5, 5): 0, (5, 7): 0, (5, 9): 0, (6, 1): 0, (6, 3): 0, (6, 5): 0, (6, 7): 0, (6, 9): 0, (7, 1): 0, (7, 3): 0, (7, 5): 0, (7, 7): 0, (7, 9): 0, (8, 1): 0, (8, 3): 0, (8, 5): 0, (8, 7): 0, (8, 9): 0}, 'x-x-1-x-4-x-x-x-x': {(0, 3): 0, (0, 5): 0, (0, 7): 0, (0, 9): 0, (1, 3): 0, (1, 5): 0, (1, 7): 0, (1, 9): 0, (3, 3): -0.01, (3, 5): 0, (3, 7): 0, (3, 9): 0, (5, 3): 0, (5, 5): 0, (5, 7): 0, (5, 9): 0, (6, 3): 0, (6, 5): 0, (6, 7): 0, (6, 9): 0, (7, 3): 0, (7, 5): 0, (7, 7): 0, (7, 9): 0, (8, 3): 0, (8, 5): 0, (8, 7): 0, (8, 9): 0}, 'x-x-1-3-4-x-x-x-2': {(0, 5): -0.01, (0, 7): 0, (0, 9): 0, (1, 5): 0, (1, 7): 0, (1, 9): 0, (5, 5): 0, (5, 7): 0, (5, 9): 0, (6, 5): 0, (6, 7): 0, (6, 9): 0, (7, 5): 0, (7, 7): 0, (7, 9): 0}, '5-x-1-3-4-x-6-x-2': {(1, 7): 0, (1, 9): 0, (5, 7): 0, (5, 9): -0.01, (7, 7): 0, (7, 9): 0}, '5-8-1-3-4-9-6-x-2': {(7, 7): 0}}"
   ]
  },
  {
   "cell_type": "code",
   "execution_count": 6,
   "metadata": {},
   "outputs": [],
   "source": [
    "next_state='5-8-1-3-4-9-6-x-2'"
   ]
  },
  {
   "cell_type": "code",
   "execution_count": 7,
   "metadata": {},
   "outputs": [],
   "source": [
    "max_next = max(Q_dict[next_state],key=Q_dict[next_state].get) "
   ]
  },
  {
   "cell_type": "code",
   "execution_count": 8,
   "metadata": {},
   "outputs": [
    {
     "data": {
      "text/plain": [
       "(7, 7)"
      ]
     },
     "execution_count": 8,
     "metadata": {},
     "output_type": "execute_result"
    }
   ],
   "source": [
    "max_next"
   ]
  },
  {
   "cell_type": "code",
   "execution_count": 26,
   "metadata": {},
   "outputs": [
    {
     "name": "stdout",
     "output_type": "stream",
     "text": [
      "('x-x-x-x-9-x-x-x-6', (0, 1))\n",
      "x-x-x-x-9-x-x-x-6\n",
      "(0, 1)\n",
      "('6-x-x-x-4-5-x-9-x', (1, 1))\n",
      "6-x-x-x-4-5-x-9-x\n",
      "(1, 1)\n"
     ]
    }
   ],
   "source": [
    "States_track = collections.defaultdict(dict)\n",
    "sample_q_values = [('x-x-x-x-9-x-x-x-6',(0, 1)),('6-x-x-x-4-5-x-9-x',(1, 1))]    #select any 4 Q-values\n",
    "for q_values in sample_q_values:\n",
    "    print (q_values)\n",
    "    state = q_values[0]\n",
    "    action = q_values[1]\n",
    "    print (state)\n",
    "    print (action)\n",
    "    States_track[state][action] = [9]   "
   ]
  },
  {
   "cell_type": "code",
   "execution_count": 28,
   "metadata": {},
   "outputs": [
    {
     "data": {
      "text/plain": [
       "array([9])"
      ]
     },
     "execution_count": 28,
     "metadata": {},
     "output_type": "execute_result"
    }
   ],
   "source": [
    "np.asarray(States_track['x-x-x-x-9-x-x-x-6'][(0,1)])"
   ]
  },
  {
   "cell_type": "code",
   "execution_count": null,
   "metadata": {},
   "outputs": [],
   "source": []
  }
 ],
 "metadata": {
  "kernelspec": {
   "display_name": "Python 3",
   "language": "python",
   "name": "python3"
  },
  "language_info": {
   "codemirror_mode": {
    "name": "ipython",
    "version": 3
   },
   "file_extension": ".py",
   "mimetype": "text/x-python",
   "name": "python",
   "nbconvert_exporter": "python",
   "pygments_lexer": "ipython3",
   "version": "3.6.5"
  }
 },
 "nbformat": 4,
 "nbformat_minor": 2
}

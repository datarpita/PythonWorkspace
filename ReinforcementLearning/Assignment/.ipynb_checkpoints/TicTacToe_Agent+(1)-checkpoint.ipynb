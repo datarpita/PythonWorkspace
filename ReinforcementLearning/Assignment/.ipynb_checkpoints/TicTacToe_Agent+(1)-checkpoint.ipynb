{
 "cells": [
  {
   "cell_type": "markdown",
   "metadata": {
    "colab_type": "text",
    "id": "rznSDgbvGggG"
   },
   "source": [
    "## Tic-Tac-Toe Agent\n",
    "​\n",
    "In this notebook, you will learn to build an RL agent (using Q-learning) that learns to play Numerical Tic-Tac-Toe with odd numbers. The environment is playing randomly with the agent, i.e. its strategy is to put an even number randomly in an empty cell. The following is the layout of the notebook:\n",
    "        - Defining epsilon-greedy strategy\n",
    "        - Tracking state-action pairs for convergence\n",
    "        - Define hyperparameters for the Q-learning algorithm\n",
    "        - Generating episode and applying Q-update equation\n",
    "        - Checking convergence in Q-values"
   ]
  },
  {
   "cell_type": "markdown",
   "metadata": {
    "colab_type": "text",
    "id": "8eDb8PxBGggH"
   },
   "source": [
    "#### Importing libraries\n",
    "Write the code to import Tic-Tac-Toe class from the environment file"
   ]
  },
  {
   "cell_type": "code",
   "execution_count": 40,
   "metadata": {
    "colab": {},
    "colab_type": "code",
    "id": "6SFNYceFGggJ"
   },
   "outputs": [],
   "source": [
    "# from <TC_Env> import <TicTacToe> - import your class from environment file\n",
    "from TCGame_Env1 import TicTacToe\n",
    "import collections\n",
    "import numpy as np\n",
    "import random\n",
    "import pickle\n",
    "import time\n",
    "from matplotlib import pyplot as plt"
   ]
  },
  {
   "cell_type": "code",
   "execution_count": 41,
   "metadata": {
    "colab": {},
    "colab_type": "code",
    "id": "wYLQyopEG8nz"
   },
   "outputs": [],
   "source": [
    "# Function to convert state array into a string to store it as keys in the dictionary\n",
    "# states in Q-dictionary will be of form: x-4-5-3-8-x-x-x-x\n",
    "#   x | 4 | 5\n",
    "#   ----------\n",
    "#   3 | 8 | x\n",
    "#   ----------\n",
    "#   x | x | x\n",
    "\n",
    "def Q_state(state):\n",
    "\n",
    "    return ('-'.join(str(e) for e in state)).replace('nan','x')"
   ]
  },
  {
   "cell_type": "code",
   "execution_count": 42,
   "metadata": {
    "colab": {},
    "colab_type": "code",
    "id": "ZebMOoiVHBBr"
   },
   "outputs": [],
   "source": [
    "# Defining a function which will return valid (all possible actions) actions corresponding to a state\n",
    "# Important to avoid errors during deployment.\n",
    "\n",
    "def valid_actions(state):\n",
    "\n",
    "    valid_Actions = []\n",
    "    \n",
    "    valid_Actions = [i for i in env.action_space(state)[0]] ###### -------please call your environment as env\n",
    "    return valid_Actions"
   ]
  },
  {
   "cell_type": "code",
   "execution_count": 43,
   "metadata": {
    "colab": {},
    "colab_type": "code",
    "id": "IRciPUkYHDWf"
   },
   "outputs": [],
   "source": [
    "# Defining a function which will add new Q-values to the Q-dictionary. \n",
    "def add_to_dict(state):\n",
    "    state1 = Q_state(state)\n",
    "    #print('add_to_dict::: Qstate---->', state1)\n",
    "    \n",
    "    valid_act = valid_actions(state)\n",
    "    if state1 not in Q_dict.keys():\n",
    "        for action in valid_act:\n",
    "            Q_dict[state1][action]=0"
   ]
  },
  {
   "cell_type": "markdown",
   "metadata": {
    "colab_type": "text",
    "id": "fNNi_EfHGggM"
   },
   "source": [
    "#### Epsilon-greedy strategy - Write your code here\n",
    "\n",
    "(you can build your epsilon-decay function similar to the one given at the end of the notebook)"
   ]
  },
  {
   "cell_type": "code",
   "execution_count": 44,
   "metadata": {
    "colab": {},
    "colab_type": "code",
    "id": "m0lMfqiJGggN"
   },
   "outputs": [],
   "source": [
    "# Defining epsilon-greedy policy. You can choose any function epsilon-decay strategy\n",
    "def epsilon_greedy(state, time):\n",
    "    print('In epsilon_greedy:::episode-->',time)\n",
    "    print('In epsilon_greedy:::Q_dict:::', Q_dict,'   state->', state)\n",
    "    z = np.random.random()\n",
    "    epsilon = - 1/ (1 + np.exp((-time+7500000)/1700000)) + 1\n",
    "        \n",
    "    if z > epsilon:\n",
    "        state1 = Q_state(state)\n",
    "        action = max(Q_dict[state1],key=Q_dict[state1].get)   #Exploitation: this gets the action corresponding to max q-value of current state\n",
    "    else:\n",
    "        result, result_val = env.is_terminal(state)\n",
    "        print ('In epsilon_greedy: check state terminal-->',result, '  result_val-->',result_val)\n",
    "        if result == False and result_val == 'Resume':\n",
    "            agent_actions, env_actions = env.action_space(state)\n",
    "            agent_actions_list = list(agent_actions) \n",
    "            #print('Agent action space---->',agent_actions_list)\n",
    "            action = agent_actions_list[random.randrange(len(agent_actions_list))]  #Exploration: randomly choosing and action\n",
    "            print ('Current action of Agent->', action)\n",
    "        else:\n",
    "            action = np.nan\n",
    "           \n",
    "    \n",
    "    return action\n"
   ]
  },
  {
   "cell_type": "markdown",
   "metadata": {
    "colab_type": "text",
    "id": "H2kyQHOMGggR"
   },
   "source": [
    "#### Tracking the state-action pairs for checking convergence - write your code here"
   ]
  },
  {
   "cell_type": "code",
   "execution_count": 45,
   "metadata": {
    "colab": {},
    "colab_type": "code",
    "id": "qcxZ29vdGggS"
   },
   "outputs": [],
   "source": [
    "# Initialise Q_dictionary as 'Q_dict' and States_tracked as 'States_track' (for convergence)\n",
    "Q_dict = collections.defaultdict(dict)\n",
    "\n",
    "States_track = collections.defaultdict(dict)"
   ]
  },
  {
   "cell_type": "code",
   "execution_count": 46,
   "metadata": {},
   "outputs": [
    {
     "name": "stdout",
     "output_type": "stream",
     "text": [
      "defaultdict(<class 'dict'>, {})\n",
      "defaultdict(<class 'dict'>, {})\n"
     ]
    }
   ],
   "source": [
    "print (Q_dict)\n",
    "print (States_track)"
   ]
  },
  {
   "cell_type": "code",
   "execution_count": 47,
   "metadata": {
    "colab": {},
    "colab_type": "code",
    "id": "vs73iv8fHOxV"
   },
   "outputs": [],
   "source": [
    "# Initialise states to be tracked\n",
    "def initialise_tracking_states():\n",
    "    sample_q_values = {'x-x-x-x-9-x-x-x-6':{(0, 1): 0, (0, 3): 0, (0, 5): 0, (0, 7): 0, (1, 1): 0, (1, 3): 0, (1, 5): 0, (1, 7): 0, (2, 1): 0, (2, 3): 0, (2, 5): 0, (2, 7): 0, (3, 1): 0, (3, 3): 0, (3, 5): 0, (3, 7): 0, (5, 1): 0, (5, 3): 0, (5, 5): 0, (5, 7): 0, (6, 1): 0, (6, 3): 0, (6, 5): 0, (6, 7): 0, (7, 1): 0, (7, 3): 0, (7, 5): 0, (7, 7): 0},'6-x-x-x-4-5-x-9-x': {(1, 1): 0, (1, 3): 0, (1, 7): 0, (2, 1): 0, (2, 3): 0, (2, 7): 0, (3, 1): 0, (3, 3): 0, (3, 7): 0, (6, 1): 0, (6, 3): 0, (6, 7): 0, (8, 1): 0, (8, 3): 0, (8, 7): 0}}    #select any 4 Q-values\n",
    "    for q_values in sample_q_values:\n",
    "        state = q_values[0]\n",
    "        action = q_values[1]\n",
    "        States_track[state][action] = []    #this is an array which will have appended values of that state-action pair for every 2000th episode         \n",
    "  \n",
    "  \n",
    "  "
   ]
  },
  {
   "cell_type": "code",
   "execution_count": 48,
   "metadata": {
    "colab": {},
    "colab_type": "code",
    "id": "dAbwJDMVHpwl"
   },
   "outputs": [],
   "source": [
    "#Defining a function to save the Q-dictionary as a pickle file\n",
    "\n",
    "def save_obj(obj, name ):\n",
    "    with open(name + '.pkl', 'wb') as f:\n",
    "        pickle.dump(obj, f, pickle.HIGHEST_PROTOCOL)"
   ]
  },
  {
   "cell_type": "code",
   "execution_count": 49,
   "metadata": {
    "colab": {},
    "colab_type": "code",
    "id": "6Pyj7nMVHsBi"
   },
   "outputs": [],
   "source": [
    "def save_tracking_states():\n",
    "    for state in States_track.keys():\n",
    "        for action in States_track[state].keys():\n",
    "            if state in Q_dict and action in Q_dict[state]:\n",
    "                States_track[state][action].append(Q_dict[state][action])"
   ]
  },
  {
   "cell_type": "code",
   "execution_count": 50,
   "metadata": {
    "colab": {},
    "colab_type": "code",
    "id": "B_8xSluUHvew"
   },
   "outputs": [],
   "source": [
    "initialise_tracking_states()"
   ]
  },
  {
   "cell_type": "markdown",
   "metadata": {
    "colab_type": "text",
    "id": "-iPt--E9GggV"
   },
   "source": [
    "#### Define hyperparameters  ---write your code here"
   ]
  },
  {
   "cell_type": "code",
   "execution_count": 51,
   "metadata": {
    "colab": {},
    "colab_type": "code",
    "id": "G0_f5czFGggW"
   },
   "outputs": [],
   "source": [
    "EPISODES = 10\n",
    "STEPS = 10\n",
    "LR = 0.01                   #learning rate\n",
    "GAMMA = 0.91\n",
    "\n",
    "\n",
    "threshold = 1       #every these many episodes, the 4 Q-values will be stored/appended (convergence graphs)\n",
    "policy_threshold = 3    #every these many episodes, the Q-dict will be updated\n"
   ]
  },
  {
   "cell_type": "markdown",
   "metadata": {
    "colab_type": "text",
    "id": "Md6twJ7wGggh"
   },
   "source": [
    "### Q-update loop ---write your code here"
   ]
  },
  {
   "cell_type": "code",
   "execution_count": 52,
   "metadata": {
    "colab": {},
    "colab_type": "code",
    "id": "ldCgQuDNGggj",
    "scrolled": false
   },
   "outputs": [
    {
     "name": "stdout",
     "output_type": "stream",
     "text": [
      "States initialized--- [nan, nan, nan, nan, nan, nan, nan, nan, nan]\n",
      "Initialize all states--- [1, 2, 3, 4, 5, 6, 7, 8, 9]\n",
      "Episode: 0    time_step: 0\n",
      "In epsilon_greedy:::episode--> 0\n",
      "In epsilon_greedy:::Q_dict::: defaultdict(<class 'dict'>, {'x-x-x-x-x-x-x-x-x': {(0, 1): 0, (0, 3): 0, (0, 5): 0, (0, 7): 0, (0, 9): 0, (1, 1): 0, (1, 3): 0, (1, 5): 0, (1, 7): 0, (1, 9): 0, (2, 1): 0, (2, 3): 0, (2, 5): 0, (2, 7): 0, (2, 9): 0, (3, 1): 0, (3, 3): 0, (3, 5): 0, (3, 7): 0, (3, 9): 0, (4, 1): 0, (4, 3): 0, (4, 5): 0, (4, 7): 0, (4, 9): 0, (5, 1): 0, (5, 3): 0, (5, 5): 0, (5, 7): 0, (5, 9): 0, (6, 1): 0, (6, 3): 0, (6, 5): 0, (6, 7): 0, (6, 9): 0, (7, 1): 0, (7, 3): 0, (7, 5): 0, (7, 7): 0, (7, 9): 0, (8, 1): 0, (8, 3): 0, (8, 5): 0, (8, 7): 0, (8, 9): 0}})    state-> [nan, nan, nan, nan, nan, nan, nan, nan, nan]\n",
      "current state is not a winning position\n",
      "In epsilon_greedy: check state terminal--> False   result_val--> Resume\n",
      "Current action of Agent-> (3, 9)\n"
     ]
    },
    {
     "ename": "ValueError",
     "evalue": "The truth value of an array with more than one element is ambiguous. Use a.any() or a.all()",
     "output_type": "error",
     "traceback": [
      "\u001b[1;31m---------------------------------------------------------------------------\u001b[0m",
      "\u001b[1;31mValueError\u001b[0m                                Traceback (most recent call last)",
      "\u001b[1;32m<ipython-input-52-8ed8fabdfa32>\u001b[0m in \u001b[0;36m<module>\u001b[1;34m()\u001b[0m\n\u001b[0;32m     20\u001b[0m \u001b[1;33m\u001b[0m\u001b[0m\n\u001b[0;32m     21\u001b[0m         \u001b[0mcurr_action\u001b[0m \u001b[1;33m=\u001b[0m \u001b[0mepsilon_greedy\u001b[0m\u001b[1;33m(\u001b[0m\u001b[0mcurr_state\u001b[0m\u001b[1;33m,\u001b[0m \u001b[0mepisode\u001b[0m\u001b[1;33m)\u001b[0m\u001b[1;33m\u001b[0m\u001b[0m\n\u001b[1;32m---> 22\u001b[1;33m         \u001b[1;32mif\u001b[0m \u001b[1;33m~\u001b[0m\u001b[0mnp\u001b[0m\u001b[1;33m.\u001b[0m\u001b[0misnan\u001b[0m\u001b[1;33m(\u001b[0m\u001b[0mcurr_action\u001b[0m\u001b[1;33m)\u001b[0m\u001b[1;33m:\u001b[0m\u001b[1;33m\u001b[0m\u001b[0m\n\u001b[0m\u001b[0;32m     23\u001b[0m             \u001b[1;31m#print ('Inside while-epsilon_greedy::: curr_state-->', curr_state, '   curr_action-->', curr_action)\u001b[0m\u001b[1;33m\u001b[0m\u001b[1;33m\u001b[0m\u001b[0m\n\u001b[0;32m     24\u001b[0m \u001b[1;33m\u001b[0m\u001b[0m\n",
      "\u001b[1;31mValueError\u001b[0m: The truth value of an array with more than one element is ambiguous. Use a.any() or a.all()"
     ]
    }
   ],
   "source": [
    "start_time = time.time()\n",
    "\n",
    "for episode in range(0,EPISODES):\n",
    "    ##### Start writing your code from the next line\n",
    "    \n",
    "    env = TicTacToe()    \n",
    "    initial_state = env.state\n",
    "    curr_state = env.state    \n",
    "    time_step = 0\n",
    "    reward = None    \n",
    "    total_reward = 0    \n",
    "    \n",
    "    while time_step < STEPS:    #the episode will run only for a few steps and not infinitely\n",
    "        \n",
    "        print(\"Episode:\", episode, \"   time_step:\", time_step)\n",
    "        \n",
    "        add_to_dict(curr_state)\n",
    "        #print ('In for loop Q_dict -->',Q_dict)\n",
    "        #print ('In for loop state track -->',States_track)\n",
    "        \n",
    "        curr_action = epsilon_greedy(curr_state, episode)\n",
    "        if np.isnan(curr_action) == False:\n",
    "            #print ('Inside while-epsilon_greedy::: curr_state-->', curr_state, '   curr_action-->', curr_action)\n",
    "\n",
    "            next_state, reward, stateTerminal = env.step(curr_state, curr_action)\n",
    "            print ('Inside while::: after step() called:::current_state-->', curr_state, '  next_state-->', next_state, '  reward-->', reward, '  state is terminal-->', stateTerminal)\n",
    "\n",
    "            if stateTerminal == False:\n",
    "                add_to_dict(next_state)\n",
    "\n",
    "                next_state_1 = Q_state(next_state)\n",
    "                curr_state_1 = Q_state(curr_state)\n",
    "                #print('Current state->', curr_state_1, '  next_state_1->', next_state_1)\n",
    "                max_next = max(Q_dict[next_state_1],key=Q_dict[next_state_1].get)   #this gets the action corresponding to max q-value of next state\n",
    "                #print ('Inside while::: max_next -->',max_next)\n",
    "                Q_dict[curr_state_1][curr_action] += LR * ((reward + (GAMMA*(Q_dict[next_state_1][max_next]))) - Q_dict[curr_state_1][curr_action] ) \n",
    "\n",
    "\n",
    "            curr_state = next_state       #state(t) became state(t-1)\n",
    "\n",
    "            total_reward += reward\n",
    "            print('Total reward so far:',total_reward)\n",
    "\n",
    "            time_step += 1\n",
    "    #TRACKING REWARDS\n",
    "    #if initial_state in rewards_tracked:     #storing rewards\n",
    "    #    rewards_tracked[initial_state].append(total_reward)\n",
    "    #    #save_obj(rewards_tracked,'Rewards')\n",
    "\n",
    "    #if ((episode+1) % threshold) == 0:   \n",
    "    #    save_obj(rewards_tracked,'Rewards')   \n",
    "    \n",
    "    #TRACKING Q-VALUES\n",
    "    if (episode == threshold-1):        \n",
    "        initialise_tracking_states()\n",
    "      \n",
    "    if ((episode+1) % threshold) == 0:   \n",
    "        save_tracking_states()\n",
    "        save_obj(States_track,'States_tracked')   \n",
    "    \n",
    "    #SAVING POLICY\n",
    "    if ((episode+1)% policy_threshold ) == 0:  \n",
    "        save_obj(Q_dict,'Policy')       \n",
    "    \n",
    "elapsed_time = time.time() - start_time\n",
    "save_obj(States_track,'States_tracked')   \n",
    "save_obj(Q_dict,'Policy')\n",
    "print(episode)"
   ]
  },
  {
   "cell_type": "markdown",
   "metadata": {
    "colab_type": "text",
    "id": "t6eMFbb8Ggg2"
   },
   "source": [
    "#### Check the Q-dictionary"
   ]
  },
  {
   "cell_type": "code",
   "execution_count": null,
   "metadata": {
    "colab": {},
    "colab_type": "code",
    "id": "fr9d2fcVGgg4",
    "scrolled": false
   },
   "outputs": [],
   "source": [
    "Q_dict"
   ]
  },
  {
   "cell_type": "code",
   "execution_count": null,
   "metadata": {
    "colab": {},
    "colab_type": "code",
    "id": "F1tnDJWkGgg9"
   },
   "outputs": [],
   "source": [
    "len(Q_dict)"
   ]
  },
  {
   "cell_type": "code",
   "execution_count": null,
   "metadata": {},
   "outputs": [],
   "source": [
    "print('The total reward at the end of all episodes->',total_reward)"
   ]
  },
  {
   "cell_type": "code",
   "execution_count": null,
   "metadata": {},
   "outputs": [],
   "source": [
    "print('The state tracked--->',States_track)"
   ]
  },
  {
   "cell_type": "code",
   "execution_count": null,
   "metadata": {
    "colab": {},
    "colab_type": "code",
    "id": "cFgUqfcQGghB"
   },
   "outputs": [],
   "source": [
    "# try checking for one of the states - that which action your agent thinks is the best  -----This will not be evaluated"
   ]
  },
  {
   "cell_type": "markdown",
   "metadata": {
    "colab_type": "text",
    "id": "KGPZEQDFGghG"
   },
   "source": [
    "#### Check the states tracked for Q-values convergence\n",
    "(non-evaluative)"
   ]
  },
  {
   "cell_type": "code",
   "execution_count": null,
   "metadata": {
    "colab": {},
    "colab_type": "code",
    "id": "9s1Tvz8HGghH"
   },
   "outputs": [],
   "source": [
    "# Write the code for plotting the graphs for state-action pairs tracked"
   ]
  },
  {
   "cell_type": "code",
   "execution_count": null,
   "metadata": {
    "colab": {},
    "colab_type": "code",
    "id": "pVQInsg7GghL"
   },
   "outputs": [],
   "source": []
  },
  {
   "cell_type": "markdown",
   "metadata": {
    "colab_type": "text",
    "id": "b2Opp8_NITkC"
   },
   "source": [
    "### Epsilon - decay check"
   ]
  },
  {
   "cell_type": "code",
   "execution_count": null,
   "metadata": {
    "colab": {},
    "colab_type": "code",
    "id": "gQ_D_JsuGghR"
   },
   "outputs": [],
   "source": [
    "max_epsilon = 1.0\n",
    "min_epsilon = 0.001\n",
    "time = np.arange(0,5000000)\n",
    "epsilon = []\n",
    "for i in range(0,5000000):\n",
    "    epsilon.append(min_epsilon + (max_epsilon - min_epsilon) * np.exp(-0.000001*i))"
   ]
  },
  {
   "cell_type": "code",
   "execution_count": null,
   "metadata": {
    "colab": {
     "base_uri": "https://localhost:8080/",
     "height": 347
    },
    "colab_type": "code",
    "id": "J7c2xADQGghV",
    "outputId": "cb60fce3-570b-45fb-bd83-abde3d13b273"
   },
   "outputs": [],
   "source": [
    "plt.plot(time, epsilon)\n",
    "plt.show()"
   ]
  },
  {
   "cell_type": "code",
   "execution_count": null,
   "metadata": {
    "colab": {},
    "colab_type": "code",
    "id": "59BRf43IJiQ1"
   },
   "outputs": [],
   "source": []
  }
 ],
 "metadata": {
  "colab": {
   "collapsed_sections": [],
   "name": "TicTacToe_Agent.ipynb",
   "provenance": [],
   "version": "0.3.2"
  },
  "kernelspec": {
   "display_name": "Python 3",
   "language": "python",
   "name": "python3"
  },
  "language_info": {
   "codemirror_mode": {
    "name": "ipython",
    "version": 3
   },
   "file_extension": ".py",
   "mimetype": "text/x-python",
   "name": "python",
   "nbconvert_exporter": "python",
   "pygments_lexer": "ipython3",
   "version": "3.6.5"
  }
 },
 "nbformat": 4,
 "nbformat_minor": 1
}

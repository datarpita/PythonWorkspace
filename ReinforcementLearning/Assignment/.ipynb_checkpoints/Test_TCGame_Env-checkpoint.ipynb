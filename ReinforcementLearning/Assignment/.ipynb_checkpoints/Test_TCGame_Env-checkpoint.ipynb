{
 "cells": [
  {
   "cell_type": "code",
   "execution_count": 1,
   "metadata": {},
   "outputs": [],
   "source": [
    "import numpy as np\n",
    "from TCGame_Env1 import TicTacToe\n",
    "import random"
   ]
  },
  {
   "cell_type": "code",
   "execution_count": 2,
   "metadata": {},
   "outputs": [
    {
     "name": "stdout",
     "output_type": "stream",
     "text": [
      "States initialized--- [nan, nan, nan, nan, nan, nan, nan, nan, nan]\n",
      "Initialize all states--- [1, 2, 3, 4, 5, 6, 7, 8, 9]\n"
     ]
    }
   ],
   "source": [
    "t = TicTacToe()"
   ]
  },
  {
   "cell_type": "code",
   "execution_count": 3,
   "metadata": {},
   "outputs": [],
   "source": [
    "curr_state=[5,np.nan,8,np.nan, np.nan, np.nan, np.nan, np.nan, np.nan]"
   ]
  },
  {
   "cell_type": "code",
   "execution_count": null,
   "metadata": {},
   "outputs": [],
   "source": [
    "###agent_actions, env_actions = t.action_space(curr_state)"
   ]
  },
  {
   "cell_type": "code",
   "execution_count": null,
   "metadata": {},
   "outputs": [],
   "source": [
    "###agent_actions_list = list(agent_actions) \n",
    "###print(agent_actions_list)"
   ]
  },
  {
   "cell_type": "code",
   "execution_count": null,
   "metadata": {},
   "outputs": [],
   "source": [
    "###env_actions_list = list(env_actions)\n",
    "###print(env_actions_list)"
   ]
  },
  {
   "cell_type": "code",
   "execution_count": null,
   "metadata": {},
   "outputs": [],
   "source": [
    "###t.checkrow(curr_state)"
   ]
  },
  {
   "cell_type": "code",
   "execution_count": 4,
   "metadata": {},
   "outputs": [
    {
     "name": "stdout",
     "output_type": "stream",
     "text": [
      "Current State--- [5, nan, 8, nan, nan, nan, nan, nan, nan]\n",
      "current state is not a winning position\n",
      "Current state--> [5, nan, 8, nan, nan, nan, nan, nan, nan]    curr_action---> [5, 1]\n",
      "After change--> [5, nan, 8, nan, nan, nan, nan, nan, nan]\n",
      "Current State--- [5, nan, 8, nan, nan, nan, nan, nan, nan]\n",
      "current state is not a winning position\n",
      "Environment - action space----> [(4, 2), (4, 4), (4, 6), (6, 2), (6, 4), (6, 6), (8, 2), (8, 4), (8, 6)]\n",
      "Env. action-> (8, 6)\n",
      "Current state--> [5, nan, 8, nan, nan, nan, nan, nan, nan]    curr_action---> (8, 6)\n",
      "After change--> [5, nan, 8, nan, nan, nan, nan, nan, nan]\n",
      "Current State--- [5, nan, 8, nan, nan, nan, nan, nan, nan]\n",
      "current state is not a winning position\n",
      "new state-> [5, nan, 8, nan, nan, nan, nan, nan, nan]   reward-> -1    state terminal-> False\n"
     ]
    }
   ],
   "source": [
    "new_env_state, reward, stateTerm = t.step(curr_state, [5,1])"
   ]
  },
  {
   "cell_type": "code",
   "execution_count": null,
   "metadata": {},
   "outputs": [],
   "source": []
  },
  {
   "cell_type": "code",
   "execution_count": null,
   "metadata": {},
   "outputs": [],
   "source": []
  },
  {
   "cell_type": "code",
   "execution_count": null,
   "metadata": {},
   "outputs": [],
   "source": []
  },
  {
   "cell_type": "code",
   "execution_count": null,
   "metadata": {},
   "outputs": [],
   "source": []
  },
  {
   "cell_type": "code",
   "execution_count": null,
   "metadata": {},
   "outputs": [],
   "source": []
  },
  {
   "cell_type": "code",
   "execution_count": null,
   "metadata": {},
   "outputs": [],
   "source": []
  },
  {
   "cell_type": "code",
   "execution_count": null,
   "metadata": {},
   "outputs": [],
   "source": []
  },
  {
   "cell_type": "code",
   "execution_count": null,
   "metadata": {},
   "outputs": [],
   "source": []
  },
  {
   "cell_type": "code",
   "execution_count": null,
   "metadata": {},
   "outputs": [],
   "source": []
  },
  {
   "cell_type": "code",
   "execution_count": null,
   "metadata": {},
   "outputs": [],
   "source": [
    "s = [(1,1),(2,1),(4,3),(6,1),(1,7),(3,6)]\n",
    "i = s[random.randrange(len(s))]\n",
    "print(i)"
   ]
  },
  {
   "cell_type": "code",
   "execution_count": 8,
   "metadata": {},
   "outputs": [
    {
     "name": "stdout",
     "output_type": "stream",
     "text": [
      "Current state--> [5, nan, 8, nan, nan, nan, nan, nan, nan]    curr_action---> 5\n",
      "In if\n",
      "After change--> [5, nan, 8, nan, nan, 1, nan, nan, nan]\n"
     ]
    }
   ],
   "source": [
    "curr_state = [5, np.nan, 8, np.nan, np.nan, np.nan, np.nan, np.nan, np.nan]\n",
    "curr_action = [5, 1]\n",
    "print('Current state-->',curr_state, '   curr_action--->',curr_action[0])\n",
    "if np.isnan(curr_state[curr_action[0]]):\n",
    "    print('In if')\n",
    "    curr_state[curr_action[0]]=curr_action[1] ### TODO: need to add +1\n",
    "print('After change-->',curr_state)"
   ]
  },
  {
   "cell_type": "code",
   "execution_count": null,
   "metadata": {},
   "outputs": [],
   "source": []
  }
 ],
 "metadata": {
  "kernelspec": {
   "display_name": "Python 3",
   "language": "python",
   "name": "python3"
  },
  "language_info": {
   "codemirror_mode": {
    "name": "ipython",
    "version": 3
   },
   "file_extension": ".py",
   "mimetype": "text/x-python",
   "name": "python",
   "nbconvert_exporter": "python",
   "pygments_lexer": "ipython3",
   "version": "3.6.5"
  }
 },
 "nbformat": 4,
 "nbformat_minor": 2
}

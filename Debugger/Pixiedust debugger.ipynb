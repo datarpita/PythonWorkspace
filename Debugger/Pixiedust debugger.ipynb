{
 "cells": [
  {
   "cell_type": "markdown",
   "metadata": {},
   "source": [
    "### Using Pixiedust debugger"
   ]
  },
  {
   "cell_type": "markdown",
   "metadata": {},
   "source": [
    "https://dataplatform.cloud.ibm.com/analytics/notebooks/6b71fb44-4d3b-4870-90e2-6a9d830e81be/view?access_token=2448a6323630fd88f545097038bad44cf7de90ecb7d15da60f9981e5bfc12fcf"
   ]
  },
  {
   "cell_type": "markdown",
   "metadata": {},
   "source": [
    "https://medium.com/ibm-watson-data-lab/the-visual-python-debugger-for-jupyter-notebooks-youve-always-wanted-761713babc62"
   ]
  },
  {
   "cell_type": "code",
   "execution_count": 1,
   "metadata": {},
   "outputs": [
    {
     "name": "stdout",
     "output_type": "stream",
     "text": [
      "Requirement already up-to-date: pixiedust in c:\\users\\arpita datta\\appdata\\roaming\\python\\python37\\site-packages (1.1.15)\n",
      "Requirement already satisfied, skipping upgrade: colour in c:\\users\\arpita datta\\appdata\\roaming\\python\\python37\\site-packages (from pixiedust) (0.1.5)\n",
      "Requirement already satisfied, skipping upgrade: lxml in c:\\anaconda3\\lib\\site-packages (from pixiedust) (4.2.5)\n",
      "Requirement already satisfied, skipping upgrade: mpld3 in c:\\users\\arpita datta\\appdata\\roaming\\python\\python37\\site-packages (from pixiedust) (0.3)\n",
      "Requirement already satisfied, skipping upgrade: requests in c:\\anaconda3\\lib\\site-packages (from pixiedust) (2.21.0)\n",
      "Requirement already satisfied, skipping upgrade: markdown in c:\\users\\arpita datta\\appdata\\roaming\\python\\python37\\site-packages (from pixiedust) (3.1)\n",
      "Requirement already satisfied, skipping upgrade: astunparse in c:\\users\\arpita datta\\appdata\\roaming\\python\\python37\\site-packages (from pixiedust) (1.6.2)\n",
      "Requirement already satisfied, skipping upgrade: geojson in c:\\users\\arpita datta\\appdata\\roaming\\python\\python37\\site-packages (from pixiedust) (2.4.1)\n",
      "Requirement already satisfied, skipping upgrade: certifi>=2017.4.17 in c:\\anaconda3\\lib\\site-packages (from requests->pixiedust) (2018.11.29)\n",
      "Requirement already satisfied, skipping upgrade: chardet<3.1.0,>=3.0.2 in c:\\anaconda3\\lib\\site-packages (from requests->pixiedust) (3.0.4)\n",
      "Requirement already satisfied, skipping upgrade: idna<2.9,>=2.5 in c:\\anaconda3\\lib\\site-packages (from requests->pixiedust) (2.8)\n",
      "Requirement already satisfied, skipping upgrade: urllib3<1.25,>=1.21.1 in c:\\anaconda3\\lib\\site-packages (from requests->pixiedust) (1.24.1)\n",
      "Requirement already satisfied, skipping upgrade: setuptools>=36 in c:\\anaconda3\\lib\\site-packages (from markdown->pixiedust) (40.6.3)\n",
      "Requirement already satisfied, skipping upgrade: six<2.0,>=1.6.1 in c:\\anaconda3\\lib\\site-packages (from astunparse->pixiedust) (1.12.0)\n",
      "Requirement already satisfied, skipping upgrade: wheel<1.0,>=0.23.0 in c:\\anaconda3\\lib\\site-packages (from astunparse->pixiedust) (0.32.3)\n"
     ]
    }
   ],
   "source": [
    "# To confirm you have the latest version of PixieDust on your system, run this cell\n",
    "!pip install --user --upgrade pixiedust"
   ]
  },
  {
   "cell_type": "code",
   "execution_count": 2,
   "metadata": {},
   "outputs": [
    {
     "name": "stdout",
     "output_type": "stream",
     "text": [
      "Pixiedust database opened successfully\n",
      "Table VERSION_TRACKER created successfully\n",
      "Table METRICS_TRACKER created successfully\n",
      "\n",
      "Share anonymous install statistics? (opt-out instructions)\n",
      "\n",
      "PixieDust will record metadata on its environment the next time the package is installed or updated. The data is anonymized and aggregated to help plan for future releases, and records only the following values:\n",
      "\n",
      "{\n",
      "   \"data_sent\": currentDate,\n",
      "   \"runtime\": \"python\",\n",
      "   \"application_version\": currentPixiedustVersion,\n",
      "   \"space_id\": nonIdentifyingUniqueId,\n",
      "   \"config\": {\n",
      "       \"repository_id\": \"https://github.com/ibm-watson-data-lab/pixiedust\",\n",
      "       \"target_runtimes\": [\"Data Science Experience\"],\n",
      "       \"event_id\": \"web\",\n",
      "       \"event_organizer\": \"dev-journeys\"\n",
      "   }\n",
      "}\n",
      "You can opt out by calling pixiedust.optOut() in a new cell.\n"
     ]
    },
    {
     "data": {
      "text/html": [
       "\n",
       "        <div style=\"margin:10px\">\n",
       "            <a href=\"https://github.com/ibm-watson-data-lab/pixiedust\" target=\"_new\">\n",
       "                <img src=\"https://github.com/ibm-watson-data-lab/pixiedust/raw/master/docs/_static/pd_icon32.png\" style=\"float:left;margin-right:10px\"/>\n",
       "            </a>\n",
       "            <span>Pixiedust version 1.1.15</span>\n",
       "        </div>\n",
       "        "
      ],
      "text/plain": [
       "<IPython.core.display.HTML object>"
      ]
     },
     "metadata": {},
     "output_type": "display_data"
    },
    {
     "name": "stdout",
     "output_type": "stream",
     "text": [
      "\u001b[31mPixiedust runtime updated. Please restart kernel\u001b[0m\n",
      "Table USER_PREFERENCES created successfully\n",
      "Table service_connections created successfully\n"
     ]
    }
   ],
   "source": [
    "import pixiedust"
   ]
  },
  {
   "cell_type": "code",
   "execution_count": 3,
   "metadata": {
    "pixiedust": {
     "displayParams": {}
    }
   },
   "outputs": [
    {
     "data": {
      "text/html": [
       "<style type=\"text/css\">.pd_warning{display:none;}</style><div class=\"pd_warning\"><em>Hey, there's something awesome here! To see it, open this notebook outside GitHub, in a viewer like Jupyter</em></div>"
      ],
      "text/plain": [
       "<IPython.core.display.HTML object>"
      ]
     },
     "metadata": {
      "pixieapp_metadata": null
     },
     "output_type": "display_data"
    }
   ],
   "source": [
    "%%pixie_debugger\n",
    "import random\n",
    "def find_max (values):\n",
    "    max = 0\n",
    "    for val in values:\n",
    "        if val > max:\n",
    "            max = val\n",
    "    return max\n",
    "find_max(random.sample(range(100), 10))"
   ]
  },
  {
   "cell_type": "code",
   "execution_count": null,
   "metadata": {},
   "outputs": [],
   "source": []
  }
 ],
 "metadata": {
  "kernelspec": {
   "display_name": "Python 3",
   "language": "python",
   "name": "python3"
  },
  "language_info": {
   "codemirror_mode": {
    "name": "ipython",
    "version": 3
   },
   "file_extension": ".py",
   "mimetype": "text/x-python",
   "name": "python",
   "nbconvert_exporter": "python",
   "pygments_lexer": "ipython3",
   "version": "3.7.1"
  }
 },
 "nbformat": 4,
 "nbformat_minor": 2
}

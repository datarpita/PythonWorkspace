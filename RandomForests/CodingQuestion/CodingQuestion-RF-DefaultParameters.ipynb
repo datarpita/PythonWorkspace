{
 "cells": [
  {
   "cell_type": "code",
   "execution_count": 1,
   "metadata": {},
   "outputs": [],
   "source": [
    "import numpy as np\n",
    "import pandas as pd\n",
    "import matplotlib.pyplot as plt\n",
    "from sklearn import metrics, preprocessing\n",
    "from sklearn.ensemble import RandomForestClassifier"
   ]
  },
  {
   "cell_type": "code",
   "execution_count": 2,
   "metadata": {},
   "outputs": [],
   "source": [
    "# read training data\n",
    "bank_train = pd.read_csv(\"training-training-bank_train/bank_train.csv\")"
   ]
  },
  {
   "cell_type": "code",
   "execution_count": 3,
   "metadata": {},
   "outputs": [],
   "source": [
    "# read test data\n",
    "bank_test = pd.read_csv(\"validation-validation-bank_test/bank_test.csv\")"
   ]
  },
  {
   "cell_type": "code",
   "execution_count": 4,
   "metadata": {
    "scrolled": true
   },
   "outputs": [
    {
     "name": "stdout",
     "output_type": "stream",
     "text": [
      "   age  duration  campaign  pdays  previous  emp.var.rate  cons.price.idx  \\\n",
      "0   39       156         5    999         0           1.4          94.465   \n",
      "1   25       103         1    999         0           1.4          93.918   \n",
      "2   50       121         2    999         0           1.1          93.994   \n",
      "3   45       187         1    999         0           1.4          93.444   \n",
      "4   46       124         4    999         0          -1.8          93.075   \n",
      "\n",
      "   cons.conf.idx  euribor3m  nr.employed    ...     job  marital  education  \\\n",
      "0          -41.8      4.865       5228.1    ...       4        1          1   \n",
      "1          -42.7      4.963       5228.1    ...       0        2          3   \n",
      "2          -36.4      4.859       5191.0    ...       9        1          5   \n",
      "3          -36.1      4.965       5228.1    ...       1        1          0   \n",
      "4          -47.1      1.405       5099.1    ...       7        1          3   \n",
      "\n",
      "   default  housing  loan  contact  month  day_of_week  poutcome  \n",
      "0        1        0     0        1      4            1         1  \n",
      "1        0        2     0        0      3            2         1  \n",
      "2        0        0     0        1      6            0         1  \n",
      "3        1        2     2        0      1            1         1  \n",
      "4        0        0     0        0      0            1         1  \n",
      "\n",
      "[5 rows x 22 columns]\n",
      "   age  duration  campaign  pdays  previous  emp.var.rate  cons.price.idx  \\\n",
      "0   29       202         1    999         0           1.4          93.444   \n",
      "1   38       333         1    999         0           1.4          94.465   \n",
      "2   35       262         3    999         0          -1.8          92.893   \n",
      "3   25       109         1    999         0           1.4          94.465   \n",
      "4   44       296         1    999         0          -1.8          92.893   \n",
      "\n",
      "   cons.conf.idx  euribor3m  nr.employed    ...     job  marital  education  \\\n",
      "0          -36.1      4.964       5228.1    ...       9        2          5   \n",
      "1          -41.8      4.958       5228.1    ...       1        1          2   \n",
      "2          -46.2      1.299       5099.1    ...       9        1          6   \n",
      "3          -41.8      4.967       5228.1    ...       0        1          6   \n",
      "4          -46.2      1.291       5099.1    ...       4        1          2   \n",
      "\n",
      "   default  housing  loan  contact  month  day_of_week  poutcome  \n",
      "0        0        2     2        0      1            0         1  \n",
      "1        0        0     0        1      4            4         1  \n",
      "2        0        2     0        0      6            1         1  \n",
      "3        0        2     0        1      4            0         1  \n",
      "4        0        0     0        0      6            3         1  \n",
      "\n",
      "[5 rows x 21 columns]\n"
     ]
    }
   ],
   "source": [
    "print(bank_train.head())\n",
    "print(bank_test.head())"
   ]
  },
  {
   "cell_type": "code",
   "execution_count": 6,
   "metadata": {},
   "outputs": [],
   "source": [
    "# Build the model \n",
    "# Create a random forest object rf (use default hyperparameters)\n",
    "rf = RandomForestClassifier()"
   ]
  },
  {
   "cell_type": "code",
   "execution_count": 7,
   "metadata": {},
   "outputs": [
    {
     "name": "stdout",
     "output_type": "stream",
     "text": [
      "Index(['age', 'duration', 'campaign', 'pdays', 'previous', 'emp.var.rate',\n",
      "       'cons.price.idx', 'cons.conf.idx', 'euribor3m', 'nr.employed',\n",
      "       'purchased', 'id', 'job', 'marital', 'education', 'default', 'housing',\n",
      "       'loan', 'contact', 'month', 'day_of_week', 'poutcome'],\n",
      "      dtype='object')\n"
     ]
    }
   ],
   "source": [
    "# Create x_train: Drop the columns 'purchased' (target) and 'id'\n",
    "print(bank_train.columns)\n",
    "x_train = bank_train.drop(['purchased','id'], axis=1)"
   ]
  },
  {
   "cell_type": "code",
   "execution_count": 8,
   "metadata": {},
   "outputs": [],
   "source": [
    "# Create y_train\n",
    "y_train = bank_train['purchased']"
   ]
  },
  {
   "cell_type": "code",
   "execution_count": 9,
   "metadata": {},
   "outputs": [
    {
     "name": "stderr",
     "output_type": "stream",
     "text": [
      "C:\\Anaconda3\\lib\\site-packages\\sklearn\\ensemble\\forest.py:246: FutureWarning: The default value of n_estimators will change from 10 in version 0.20 to 100 in 0.22.\n",
      "  \"10 in version 0.20 to 100 in 0.22.\", FutureWarning)\n"
     ]
    },
    {
     "data": {
      "text/plain": [
       "RandomForestClassifier(bootstrap=True, class_weight=None, criterion='gini',\n",
       "            max_depth=None, max_features='auto', max_leaf_nodes=None,\n",
       "            min_impurity_decrease=0.0, min_impurity_split=None,\n",
       "            min_samples_leaf=1, min_samples_split=2,\n",
       "            min_weight_fraction_leaf=0.0, n_estimators=10, n_jobs=None,\n",
       "            oob_score=False, random_state=None, verbose=0,\n",
       "            warm_start=False)"
      ]
     },
     "execution_count": 9,
     "metadata": {},
     "output_type": "execute_result"
    }
   ],
   "source": [
    "# Fit the model\n",
    "rf.fit(x_train, y_train)"
   ]
  },
  {
   "cell_type": "code",
   "execution_count": 10,
   "metadata": {},
   "outputs": [
    {
     "name": "stdout",
     "output_type": "stream",
     "text": [
      "   age  duration  campaign  pdays  previous  emp.var.rate  cons.price.idx  \\\n",
      "0   29       202         1    999         0           1.4          93.444   \n",
      "1   38       333         1    999         0           1.4          94.465   \n",
      "2   35       262         3    999         0          -1.8          92.893   \n",
      "3   25       109         1    999         0           1.4          94.465   \n",
      "4   44       296         1    999         0          -1.8          92.893   \n",
      "\n",
      "   cons.conf.idx  euribor3m  nr.employed    ...     job  marital  education  \\\n",
      "0          -36.1      4.964       5228.1    ...       9        2          5   \n",
      "1          -41.8      4.958       5228.1    ...       1        1          2   \n",
      "2          -46.2      1.299       5099.1    ...       9        1          6   \n",
      "3          -41.8      4.967       5228.1    ...       0        1          6   \n",
      "4          -46.2      1.291       5099.1    ...       4        1          2   \n",
      "\n",
      "   default  housing  loan  contact  month  day_of_week  poutcome  \n",
      "0        0        2     2        0      1            0         1  \n",
      "1        0        0     0        1      4            4         1  \n",
      "2        0        2     0        0      6            1         1  \n",
      "3        0        2     0        1      4            0         1  \n",
      "4        0        0     0        0      6            3         1  \n",
      "\n",
      "[5 rows x 21 columns]\n"
     ]
    }
   ],
   "source": [
    "#  Make predictions using test data\n",
    "print(bank_test.head())"
   ]
  },
  {
   "cell_type": "code",
   "execution_count": 11,
   "metadata": {},
   "outputs": [
    {
     "name": "stdout",
     "output_type": "stream",
     "text": [
      "[0 0 0 0 0]\n"
     ]
    }
   ],
   "source": [
    "# remember to drop 'id' from the test dataset \n",
    "predictions = rf.predict(bank_test.drop(['id'], axis=1))\n",
    "print(predictions[:5])"
   ]
  },
  {
   "cell_type": "code",
   "execution_count": 14,
   "metadata": {},
   "outputs": [],
   "source": [
    "d = pd.DataFrame({'id': bank_test['id'], 'bank_predicted': predictions})"
   ]
  },
  {
   "cell_type": "code",
   "execution_count": 15,
   "metadata": {},
   "outputs": [],
   "source": [
    "# Write the columns 'id' and 'predictions' into the output file\n",
    "# Write the output\n",
    "d.to_csv('output/bank_predictions.csv', sep=\",\")"
   ]
  },
  {
   "cell_type": "code",
   "execution_count": null,
   "metadata": {},
   "outputs": [],
   "source": []
  }
 ],
 "metadata": {
  "kernelspec": {
   "display_name": "Python 3",
   "language": "python",
   "name": "python3"
  },
  "language_info": {
   "codemirror_mode": {
    "name": "ipython",
    "version": 3
   },
   "file_extension": ".py",
   "mimetype": "text/x-python",
   "name": "python",
   "nbconvert_exporter": "python",
   "pygments_lexer": "ipython3",
   "version": "3.7.1"
  }
 },
 "nbformat": 4,
 "nbformat_minor": 2
}

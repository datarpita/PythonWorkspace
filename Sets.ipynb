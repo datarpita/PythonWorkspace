{
 "cells": [
  {
   "cell_type": "code",
   "execution_count": 2,
   "metadata": {},
   "outputs": [],
   "source": [
    "students_list = ['A','A','B','C','C','E','N']\n"
   ]
  },
  {
   "cell_type": "code",
   "execution_count": 3,
   "metadata": {},
   "outputs": [
    {
     "name": "stdout",
     "output_type": "stream",
     "text": [
      "{'N', 'E', 'B', 'A', 'C'}\n"
     ]
    }
   ],
   "source": [
    "students_set = set(students_list)\n",
    "print(students_set)\n"
   ]
  },
  {
   "cell_type": "code",
   "execution_count": 4,
   "metadata": {},
   "outputs": [
    {
     "name": "stdout",
     "output_type": "stream",
     "text": [
      "<class 'set'>\n"
     ]
    }
   ],
   "source": [
    "print(type(students_set))\n"
   ]
  },
  {
   "cell_type": "code",
   "execution_count": 5,
   "metadata": {},
   "outputs": [],
   "source": [
    "students_list_2 = ['A','N','F','N','G','A']\n"
   ]
  },
  {
   "cell_type": "code",
   "execution_count": 6,
   "metadata": {},
   "outputs": [],
   "source": [
    "students_set_2 = set(students_list_2)\n"
   ]
  },
  {
   "cell_type": "code",
   "execution_count": 7,
   "metadata": {},
   "outputs": [
    {
     "name": "stdout",
     "output_type": "stream",
     "text": [
      "{'A', 'N'}\n"
     ]
    }
   ],
   "source": [
    "print(students_set.intersection(students_set_2))"
   ]
  },
  {
   "cell_type": "code",
   "execution_count": 8,
   "metadata": {},
   "outputs": [
    {
     "name": "stdout",
     "output_type": "stream",
     "text": [
      "{'G', 'N', 'F', 'E', 'B', 'A', 'C'}\n"
     ]
    }
   ],
   "source": [
    "print(students_set.union(students_set_2))"
   ]
  },
  {
   "cell_type": "code",
   "execution_count": 9,
   "metadata": {},
   "outputs": [
    {
     "name": "stdout",
     "output_type": "stream",
     "text": [
      "{'E', 'B', 'C'}\n"
     ]
    }
   ],
   "source": [
    "print(students_set.difference(students_set_2))"
   ]
  },
  {
   "cell_type": "code",
   "execution_count": 2,
   "metadata": {},
   "outputs": [
    {
     "name": "stdout",
     "output_type": "stream",
     "text": [
      "[[2, 5, 9, 12, 13, 15, 16, 17, 18, 19], [2, 4, 5, 6, 7, 9, 13, 16], [1, 2, 5, 9, 10, 11, 12, 13, 15]]\n",
      "[2, 5, 9, 13]\n",
      "[16]\n",
      "[12, 15, 16]\n",
      "[3, 8, 14, 20]\n"
     ]
    }
   ],
   "source": [
    "#In a school, there are total 20 students numbered from 1 to 20. You’re given three lists named ‘C’, ‘F’, and ‘H’, representing students who play cricket, football, and hockey, respectively. Based on this information, find out and print the following: \n",
    "#     Students who play all the three sports\n",
    "#     Students who play both cricket and football but don’t play hockey\n",
    "#     Students who play exactly two of the sports\n",
    "#     Students who don’t play any of the three sports\n",
    "\n",
    "#[[2, 5, 9, 12, 13, 15, 16, 17, 18, 19], [2, 4, 5, 6, 7, 9, 13, 16], [1, 2, 5, 9, 10, 11, 12, 13, 15]]\n",
    "import ast,sys\n",
    "input_list = ast.literal_eval(input())\n",
    "C = input_list[0]\n",
    "F = input_list[1]\n",
    "H = input_list[2]\n",
    "\n",
    "# Write your code here\n",
    "C_set = set(C)\n",
    "F_set = set(F)\n",
    "H_set = set(H)\n",
    "\n",
    "#Who play all the 3 sports\n",
    "temp1=C_set.intersection(F_set).intersection(H_set)\n",
    "print(sorted(list(temp1)))\n",
    "#who play both cricket and football but don’t play hockey\n",
    "temp2=C_set.intersection(F_set)\n",
    "print(sorted(list(temp2.difference(H_set))))\n",
    "#who play exactly two of the sports\n",
    "temp3=C_set.intersection(H_set)\n",
    "temp4=F_set.intersection(H_set)\n",
    "temp5=temp2.union(temp3).union(temp4)\n",
    "print(sorted(list(temp5.difference(temp1))))\n",
    "#who don’t play any of the three sports\n",
    "universal_set = set(range(1,21))\n",
    "temp6=C_set.union(F_set).union(H_set)\n",
    "print(sorted(list(universal_set.difference(temp6))))"
   ]
  },
  {
   "cell_type": "code",
   "execution_count": 4,
   "metadata": {},
   "outputs": [
    {
     "name": "stdout",
     "output_type": "stream",
     "text": [
      "[[2, 5, 9, 12, 13, 15, 16, 17, 18, 19], [2, 4, 5, 6, 7, 9, 13, 16], [1, 2, 5, 9, 10, 11, 12, 13, 15]]\n",
      "[2, 5, 9, 13]\n",
      "[16]\n",
      "[12, 15, 16]\n",
      "[3, 8, 14, 20]\n"
     ]
    }
   ],
   "source": [
    "#In a school, there are total 20 students numbered from 1 to 20. You’re given three lists named ‘C’, ‘F’, and ‘H’, representing students who play cricket, football, and hockey, respectively. Based on this information, find out and print the following: \n",
    "#     Students who play all the three sports\n",
    "#     Students who play both cricket and football but don’t play hockey\n",
    "#     Students who play exactly two of the sports\n",
    "#     Students who don’t play any of the three sports\n",
    "\n",
    "# [[2, 5, 9, 12, 13, 15, 16, 17, 18, 19], [2, 4, 5, 6, 7, 9, 13, 16], [1, 2, 5, 9, 10, 11, 12, 13, 15]]\n",
    "import ast,sys\n",
    "input_list = ast.literal_eval(input())\n",
    "# Convert the given lists to sets as it is easier to perform the given operations\n",
    "# on sets\n",
    "C = set(input_list[0])\n",
    "F = set(input_list[1])\n",
    "H = set(input_list[2])\n",
    "\n",
    "# Perform an '&' operation between the three sets to find out the students who play\n",
    "# all the three sports. Finally, convert it into a list, apply the sorted() function\n",
    "# and print the resultant list.\n",
    "print(sorted(list(C & F & H)))\n",
    "\n",
    "# The following opeartion gives the students who play only Cricket and Football.\n",
    "# Note that only (C & F) also contains the students who play all the three sports\n",
    "# and hence, we need to subtract (C & F & H) from it.\n",
    "print(sorted(list((C & F) - (C & F & H))))\n",
    "\n",
    "# The students who play exactly three sports can be given by the following expression\n",
    "# (C & F) gives the students who play cricket and football, (F & H) gives the students\n",
    "# who play football and hockey, and (F & H) gives the students who play cricket and\n",
    "# hockey. Performing an 'OR' operation ('|') between the three will give the students\n",
    "# who play a minimum of two sports and finally subracting (C & F & H) will give the \n",
    "# list of students who play exactly two sports.\n",
    "print(sorted(list(((C & F) | (F & H) | (C & H)) - (C & F & H))))\n",
    "\n",
    "# As the students are numbered from 1 to 20, the whole set of students can be defined\n",
    "# by creating a set containing all the numbers from 1 to 20, using range. Finally,\n",
    "# you can subract (C | F | H), from the created set to get all the students who don't\n",
    "# play even a single sport.\n",
    "print(sorted(list(set(range(1,21)) - (C | F | H))))"
   ]
  },
  {
   "cell_type": "code",
   "execution_count": null,
   "metadata": {},
   "outputs": [],
   "source": []
  }
 ],
 "metadata": {
  "anaconda-cloud": {},
  "kernelspec": {
   "display_name": "Python 3",
   "language": "python",
   "name": "python3"
  },
  "language_info": {
   "codemirror_mode": {
    "name": "ipython",
    "version": 3
   },
   "file_extension": ".py",
   "mimetype": "text/x-python",
   "name": "python",
   "nbconvert_exporter": "python",
   "pygments_lexer": "ipython3",
   "version": "3.7.0"
  }
 },
 "nbformat": 4,
 "nbformat_minor": 1
}

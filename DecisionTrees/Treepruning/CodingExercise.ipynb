{
 "cells": [
  {
   "cell_type": "code",
   "execution_count": 32,
   "metadata": {},
   "outputs": [],
   "source": [
    "import numpy as np\n",
    "import pandas as pd\n",
    "import matplotlib.pyplot as plt\n",
    "from sklearn import metrics, preprocessing\n",
    "from sklearn.tree import DecisionTreeClassifier\n",
    "from sklearn.model_selection import KFold\n",
    "from sklearn.model_selection import GridSearchCV"
   ]
  },
  {
   "cell_type": "code",
   "execution_count": 33,
   "metadata": {},
   "outputs": [],
   "source": [
    "# read training data\n",
    "bank_train = pd.read_csv(\"data/training/bank_train.csv\")"
   ]
  },
  {
   "cell_type": "code",
   "execution_count": 34,
   "metadata": {},
   "outputs": [],
   "source": [
    "# read test data\n",
    "bank_test = pd.read_csv(\"data/test/bank_test.csv\")"
   ]
  },
  {
   "cell_type": "code",
   "execution_count": 35,
   "metadata": {},
   "outputs": [
    {
     "name": "stdout",
     "output_type": "stream",
     "text": [
      "   age  duration  campaign  pdays  previous  emp.var.rate  cons.price.idx  \\\n",
      "0   49       284         1    999         0           1.4          93.918   \n",
      "1   58       374         1    999         0           1.4          93.918   \n",
      "2   36       529         1    999         0           1.4          93.444   \n",
      "3   47       216         1    999         0           1.4          94.465   \n",
      "4   38       191         1    999         0          -1.8          92.893   \n",
      "\n",
      "   cons.conf.idx  euribor3m  nr.employed    ...     job  marital  education  \\\n",
      "0          -42.7      4.957       5228.1    ...       1        0          7   \n",
      "1          -42.7      4.963       5228.1    ...       5        1          0   \n",
      "2          -36.1      4.965       5228.1    ...       0        3          6   \n",
      "3          -41.8      4.961       5228.1    ...       4        1          0   \n",
      "4          -46.2      1.313       5099.1    ...       0        2          7   \n",
      "\n",
      "   default  housing  loan  contact  month  day_of_week  poutcome  \n",
      "0        1        2     0        0      3            4         1  \n",
      "1        1        2     0        0      3            4         1  \n",
      "2        0        2     0        0      1            4         1  \n",
      "3        0        0     2        1      4            2         1  \n",
      "4        0        2     0        0      6            0         1  \n",
      "\n",
      "[5 rows x 22 columns]\n",
      "   age  duration  campaign  pdays  previous  emp.var.rate  cons.price.idx  \\\n",
      "0   33       122         4    999         0           1.4          93.444   \n",
      "1   45       133         1    999         0          -1.8          92.893   \n",
      "2   39       302         1    999         0           1.1          93.994   \n",
      "3   49       602         1    999         0           1.4          93.918   \n",
      "4   24       493         1    999         0           1.4          93.918   \n",
      "\n",
      "   cons.conf.idx  euribor3m  nr.employed    ...     job  marital  education  \\\n",
      "0          -36.1      4.963       5228.1    ...       9        2          5   \n",
      "1          -46.2      1.250       5099.1    ...       6        0          6   \n",
      "2          -36.4      4.857       5191.0    ...       0        1          6   \n",
      "3          -42.7      4.958       5228.1    ...       0        0          3   \n",
      "4          -42.7      4.958       5228.1    ...       0        2          3   \n",
      "\n",
      "   default  housing  loan  contact  month  day_of_week  poutcome  \n",
      "0        0        2     0        0      1            1         1  \n",
      "1        0        0     2        0      6            0         1  \n",
      "2        1        0     0        1      6            0         1  \n",
      "3        0        0     0        0      3            2         1  \n",
      "4        1        2     2        0      3            2         1  \n",
      "\n",
      "[5 rows x 21 columns]\n"
     ]
    }
   ],
   "source": [
    "print(bank_train.head())\n",
    "print(bank_test.head())"
   ]
  },
  {
   "cell_type": "code",
   "execution_count": 6,
   "metadata": {},
   "outputs": [
    {
     "name": "stdout",
     "output_type": "stream",
     "text": [
      "Index(['age', 'duration', 'campaign', 'pdays', 'previous', 'emp.var.rate',\n",
      "       'cons.price.idx', 'cons.conf.idx', 'euribor3m', 'nr.employed',\n",
      "       'purchased', 'id', 'job', 'marital', 'education', 'default', 'housing',\n",
      "       'loan', 'contact', 'month', 'day_of_week', 'poutcome'],\n",
      "      dtype='object')\n"
     ]
    }
   ],
   "source": [
    "# Train the model\n",
    "print(bank_train.columns)"
   ]
  },
  {
   "cell_type": "code",
   "execution_count": null,
   "metadata": {},
   "outputs": [],
   "source": []
  },
  {
   "cell_type": "code",
   "execution_count": null,
   "metadata": {},
   "outputs": [],
   "source": []
  },
  {
   "cell_type": "code",
   "execution_count": 36,
   "metadata": {},
   "outputs": [],
   "source": [
    "# Create x_train: Drop the columns 'purchased' (target) and 'id'\n",
    "x_train = bank_train.drop(['purchased','id'], axis=1)"
   ]
  },
  {
   "cell_type": "code",
   "execution_count": 37,
   "metadata": {},
   "outputs": [],
   "source": [
    "# Create y_train\n",
    "y_train = bank_train['purchased']"
   ]
  },
  {
   "cell_type": "code",
   "execution_count": 38,
   "metadata": {},
   "outputs": [],
   "source": [
    "# Hyperparameter tuning: maxdepth\n",
    "# specify number of folds for k-fold CV\n",
    "n_folds = 5"
   ]
  },
  {
   "cell_type": "code",
   "execution_count": 50,
   "metadata": {},
   "outputs": [],
   "source": [
    "# parameters to build the model on: specify a range of max_depth\n",
    "parameters = {'max_depth': range(1, 10)}"
   ]
  },
  {
   "cell_type": "code",
   "execution_count": 51,
   "metadata": {},
   "outputs": [],
   "source": [
    "# Build the model \n",
    "# Create a decision tree object with default hyperparameters\n",
    "dtree = DecisionTreeClassifier(criterion = \"gini\", random_state = 100)"
   ]
  },
  {
   "cell_type": "code",
   "execution_count": 52,
   "metadata": {},
   "outputs": [],
   "source": [
    "tree = GridSearchCV(dtree, parameters, \n",
    "                     cv=n_folds, \n",
    "                   scoring=\"accuracy\",\n",
    "                   return_train_score=True)"
   ]
  },
  {
   "cell_type": "code",
   "execution_count": 53,
   "metadata": {},
   "outputs": [
    {
     "data": {
      "text/plain": [
       "GridSearchCV(cv=5, error_score='raise-deprecating',\n",
       "       estimator=DecisionTreeClassifier(class_weight=None, criterion='gini', max_depth=None,\n",
       "            max_features=None, max_leaf_nodes=None,\n",
       "            min_impurity_decrease=0.0, min_impurity_split=None,\n",
       "            min_samples_leaf=1, min_samples_split=2,\n",
       "            min_weight_fraction_leaf=0.0, presort=False, random_state=100,\n",
       "            splitter='best'),\n",
       "       fit_params=None, iid='warn', n_jobs=None,\n",
       "       param_grid={'max_depth': range(1, 10)}, pre_dispatch='2*n_jobs',\n",
       "       refit=True, return_train_score=True, scoring='accuracy', verbose=0)"
      ]
     },
     "execution_count": 53,
     "metadata": {},
     "output_type": "execute_result"
    }
   ],
   "source": [
    "tree.fit(x_train, y_train)"
   ]
  },
  {
   "cell_type": "code",
   "execution_count": 54,
   "metadata": {},
   "outputs": [
    {
     "name": "stdout",
     "output_type": "stream",
     "text": [
      "   mean_fit_time  std_fit_time  mean_score_time  std_score_time  \\\n",
      "0       0.005400      0.001497         0.001600    4.903310e-04   \n",
      "1       0.004398      0.001020         0.001001    7.921814e-07   \n",
      "2       0.006199      0.001166         0.001201    3.995474e-04   \n",
      "3       0.006200      0.001166         0.001000    6.641573e-07   \n",
      "4       0.007000      0.001264         0.000800    3.998288e-04   \n",
      "\n",
      "  param_max_depth            params  split0_test_score  split1_test_score  \\\n",
      "0               1  {'max_depth': 1}           0.892424           0.893778   \n",
      "1               2  {'max_depth': 2}           0.901515           0.893778   \n",
      "2               3  {'max_depth': 3}           0.901515           0.901366   \n",
      "3               4  {'max_depth': 4}           0.912121           0.890744   \n",
      "4               5  {'max_depth': 5}           0.890909           0.892261   \n",
      "\n",
      "   split2_test_score  split3_test_score       ...         mean_test_score  \\\n",
      "0           0.893778           0.893778       ...                0.893171   \n",
      "1           0.915023           0.905918       ...                0.902883   \n",
      "2           0.910470           0.901366       ...                0.906829   \n",
      "3           0.911988           0.918058       ...                0.909863   \n",
      "4           0.908953           0.918058       ...                0.905615   \n",
      "\n",
      "   std_test_score  rank_test_score  split0_train_score  split1_train_score  \\\n",
      "0        0.000751                9            0.893738            0.893399   \n",
      "1        0.007259                6            0.918027            0.906297   \n",
      "2        0.007216                2            0.921442            0.921851   \n",
      "3        0.009851                1            0.929032            0.931335   \n",
      "4        0.011936                4            0.941935            0.935888   \n",
      "\n",
      "   split2_train_score  split3_train_score  split4_train_score  \\\n",
      "0            0.893399            0.893399            0.897232   \n",
      "1            0.912367            0.911988            0.904437   \n",
      "2            0.917678            0.918058            0.917330   \n",
      "3            0.928300            0.921472            0.926432   \n",
      "4            0.934370            0.937405            0.935533   \n",
      "\n",
      "   mean_train_score  std_train_score  \n",
      "0          0.894233         0.001505  \n",
      "1          0.910623         0.004831  \n",
      "2          0.919272         0.001957  \n",
      "3          0.927314         0.003317  \n",
      "4          0.937026         0.002639  \n",
      "\n",
      "[5 rows x 21 columns]\n"
     ]
    }
   ],
   "source": [
    "# scores of GridSearch CV\n",
    "scores = tree.cv_results_\n",
    "print(pd.DataFrame(scores).head())"
   ]
  },
  {
   "cell_type": "code",
   "execution_count": 55,
   "metadata": {},
   "outputs": [
    {
     "data": {
      "image/png": "[encoded data removed]",
      "text/plain": [
       "<Figure size 432x288 with 1 Axes>"
      ]
     },
     "metadata": {
      "needs_background": "light"
     },
     "output_type": "display_data"
    },
    {
     "data": {
      "text/plain": [
       "<Figure size 432x288 with 0 Axes>"
      ]
     },
     "metadata": {},
     "output_type": "display_data"
    }
   ],
   "source": [
    "# plotting accuracies with max_depth (code already written)\n",
    "plt.figure()\n",
    "plt.plot(scores[\"param_max_depth\"], \n",
    "         scores[\"mean_train_score\"], \n",
    "         label=\"training accuracy\")\n",
    "plt.plot(scores[\"param_max_depth\"], \n",
    "         scores[\"mean_test_score\"], \n",
    "         label=\"test accuracy\")\n",
    "plt.xlabel(\"max_depth\")\n",
    "plt.ylabel(\"Accuracy\")\n",
    "plt.legend()\n",
    "plt.show()\n",
    "plt.savefig('output/hyperparam.png')"
   ]
  },
  {
   "cell_type": "code",
   "execution_count": 56,
   "metadata": {},
   "outputs": [],
   "source": [
    "# observe the optimal value of max_depth from the plot and store \n",
    "# in max_depth_optimal\n",
    "max_depth_optimal = 4"
   ]
  },
  {
   "cell_type": "code",
   "execution_count": 57,
   "metadata": {},
   "outputs": [
    {
     "data": {
      "text/plain": [
       "DecisionTreeClassifier(class_weight=None, criterion='gini', max_depth=4,\n",
       "            max_features=None, max_leaf_nodes=None,\n",
       "            min_impurity_decrease=0.0, min_impurity_split=None,\n",
       "            min_samples_leaf=1, min_samples_split=2,\n",
       "            min_weight_fraction_leaf=0.0, presort=False, random_state=None,\n",
       "            splitter='best')"
      ]
     },
     "execution_count": 57,
     "metadata": {},
     "output_type": "execute_result"
    }
   ],
   "source": [
    "# Build a tree with optimal max_depth\n",
    "best_tree = DecisionTreeClassifier(max_depth=max_depth_optimal)\n",
    "best_tree.fit(x_train, y_train)"
   ]
  },
  {
   "cell_type": "code",
   "execution_count": 58,
   "metadata": {},
   "outputs": [
    {
     "name": "stdout",
     "output_type": "stream",
     "text": [
      "   age  duration  campaign  pdays  previous  emp.var.rate  cons.price.idx  \\\n",
      "0   33       122         4    999         0           1.4          93.444   \n",
      "1   45       133         1    999         0          -1.8          92.893   \n",
      "2   39       302         1    999         0           1.1          93.994   \n",
      "3   49       602         1    999         0           1.4          93.918   \n",
      "4   24       493         1    999         0           1.4          93.918   \n",
      "\n",
      "   cons.conf.idx  euribor3m  nr.employed    ...     job  marital  education  \\\n",
      "0          -36.1      4.963       5228.1    ...       9        2          5   \n",
      "1          -46.2      1.250       5099.1    ...       6        0          6   \n",
      "2          -36.4      4.857       5191.0    ...       0        1          6   \n",
      "3          -42.7      4.958       5228.1    ...       0        0          3   \n",
      "4          -42.7      4.958       5228.1    ...       0        2          3   \n",
      "\n",
      "   default  housing  loan  contact  month  day_of_week  poutcome  \n",
      "0        0        2     0        0      1            1         1  \n",
      "1        0        0     2        0      6            0         1  \n",
      "2        1        0     0        1      6            0         1  \n",
      "3        0        0     0        0      3            2         1  \n",
      "4        1        2     2        0      3            2         1  \n",
      "\n",
      "[5 rows x 21 columns]\n"
     ]
    }
   ],
   "source": [
    "#  Make predictions using test data\n",
    "print(bank_test.head())"
   ]
  },
  {
   "cell_type": "code",
   "execution_count": 59,
   "metadata": {},
   "outputs": [
    {
     "name": "stdout",
     "output_type": "stream",
     "text": [
      "[0 0 0 0 0]\n"
     ]
    }
   ],
   "source": [
    "# remember to drop 'id' from the test dataset \n",
    "predictions = best_tree.predict(bank_test.drop(['id'], axis=1))\n",
    "print(predictions[:5])"
   ]
  },
  {
   "cell_type": "code",
   "execution_count": 60,
   "metadata": {},
   "outputs": [],
   "source": [
    "# Write the columns 'id' and 'predictions' into the output file\n",
    "d = pd.DataFrame({'id': bank_test['id'], 'bank_predicted': predictions})"
   ]
  },
  {
   "cell_type": "code",
   "execution_count": 62,
   "metadata": {},
   "outputs": [],
   "source": [
    "# Write the output\n",
    "d.to_csv('output/bank_predictions.csv', sep=\",\")"
   ]
  },
  {
   "cell_type": "code",
   "execution_count": null,
   "metadata": {},
   "outputs": [],
   "source": []
  },
  {
   "cell_type": "code",
   "execution_count": null,
   "metadata": {},
   "outputs": [],
   "source": []
  },
  {
   "cell_type": "code",
   "execution_count": null,
   "metadata": {},
   "outputs": [],
   "source": []
  },
  {
   "cell_type": "code",
   "execution_count": null,
   "metadata": {},
   "outputs": [],
   "source": []
  }
 ],
 "metadata": {
  "kernelspec": {
   "display_name": "Python 3",
   "language": "python",
   "name": "python3"
  },
  "language_info": {
   "codemirror_mode": {
    "name": "ipython",
    "version": 3
   },
   "file_extension": ".py",
   "mimetype": "text/x-python",
   "name": "python",
   "nbconvert_exporter": "python",
   "pygments_lexer": "ipython3",
   "version": "3.7.1"
  }
 },
 "nbformat": 4,
 "nbformat_minor": 2
}

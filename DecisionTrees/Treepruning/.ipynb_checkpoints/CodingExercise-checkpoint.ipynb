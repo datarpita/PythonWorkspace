{
 "cells": [
  {
   "cell_type": "code",
   "execution_count": 1,
   "metadata": {},
   "outputs": [],
   "source": [
    "import numpy as np\n",
    "import pandas as pd\n",
    "import matplotlib.pyplot as plt\n",
    "from sklearn import metrics, preprocessing\n",
    "from sklearn.tree import DecisionTreeClassifier"
   ]
  },
  {
   "cell_type": "code",
   "execution_count": 2,
   "metadata": {},
   "outputs": [],
   "source": [
    "# read training data\n",
    "bank_train = pd.read_csv(\"data/training/bank_train.csv\")"
   ]
  },
  {
   "cell_type": "code",
   "execution_count": 3,
   "metadata": {},
   "outputs": [],
   "source": [
    "# read test data\n",
    "bank_test = pd.read_csv(\"data/test/bank_test.csv\")"
   ]
  },
  {
   "cell_type": "code",
   "execution_count": 4,
   "metadata": {},
   "outputs": [
    {
     "name": "stdout",
     "output_type": "stream",
     "text": [
      "   age  duration  campaign  pdays  previous  emp.var.rate  cons.price.idx  \\\n",
      "0   49       284         1    999         0           1.4          93.918   \n",
      "1   58       374         1    999         0           1.4          93.918   \n",
      "2   36       529         1    999         0           1.4          93.444   \n",
      "3   47       216         1    999         0           1.4          94.465   \n",
      "4   38       191         1    999         0          -1.8          92.893   \n",
      "\n",
      "   cons.conf.idx  euribor3m  nr.employed    ...     job  marital  education  \\\n",
      "0          -42.7      4.957       5228.1    ...       1        0          7   \n",
      "1          -42.7      4.963       5228.1    ...       5        1          0   \n",
      "2          -36.1      4.965       5228.1    ...       0        3          6   \n",
      "3          -41.8      4.961       5228.1    ...       4        1          0   \n",
      "4          -46.2      1.313       5099.1    ...       0        2          7   \n",
      "\n",
      "   default  housing  loan  contact  month  day_of_week  poutcome  \n",
      "0        1        2     0        0      3            4         1  \n",
      "1        1        2     0        0      3            4         1  \n",
      "2        0        2     0        0      1            4         1  \n",
      "3        0        0     2        1      4            2         1  \n",
      "4        0        2     0        0      6            0         1  \n",
      "\n",
      "[5 rows x 22 columns]\n",
      "   age  duration  campaign  pdays  previous  emp.var.rate  cons.price.idx  \\\n",
      "0   33       122         4    999         0           1.4          93.444   \n",
      "1   45       133         1    999         0          -1.8          92.893   \n",
      "2   39       302         1    999         0           1.1          93.994   \n",
      "3   49       602         1    999         0           1.4          93.918   \n",
      "4   24       493         1    999         0           1.4          93.918   \n",
      "\n",
      "   cons.conf.idx  euribor3m  nr.employed    ...     job  marital  education  \\\n",
      "0          -36.1      4.963       5228.1    ...       9        2          5   \n",
      "1          -46.2      1.250       5099.1    ...       6        0          6   \n",
      "2          -36.4      4.857       5191.0    ...       0        1          6   \n",
      "3          -42.7      4.958       5228.1    ...       0        0          3   \n",
      "4          -42.7      4.958       5228.1    ...       0        2          3   \n",
      "\n",
      "   default  housing  loan  contact  month  day_of_week  poutcome  \n",
      "0        0        2     0        0      1            1         1  \n",
      "1        0        0     2        0      6            0         1  \n",
      "2        1        0     0        1      6            0         1  \n",
      "3        0        0     0        0      3            2         1  \n",
      "4        1        2     2        0      3            2         1  \n",
      "\n",
      "[5 rows x 21 columns]\n"
     ]
    }
   ],
   "source": [
    "print(bank_train.head())\n",
    "print(bank_test.head())"
   ]
  },
  {
   "cell_type": "code",
   "execution_count": null,
   "metadata": {},
   "outputs": [],
   "source": [
    "# Build the model \n",
    "# Create a decision tree object with default hyperparameters\n",
    "# tree = "
   ]
  },
  {
   "cell_type": "code",
   "execution_count": null,
   "metadata": {},
   "outputs": [],
   "source": [
    "# Train the model\n",
    "print(bank_train.columns)"
   ]
  },
  {
   "cell_type": "code",
   "execution_count": null,
   "metadata": {},
   "outputs": [],
   "source": [
    "# Create x_train: Drop the columns 'purchased' (target) and 'id'\n",
    "# x_train = bank_train.drop([], axis=1)"
   ]
  },
  {
   "cell_type": "code",
   "execution_count": null,
   "metadata": {},
   "outputs": [],
   "source": [
    "# Create y_train\n",
    "# y_train = "
   ]
  },
  {
   "cell_type": "code",
   "execution_count": null,
   "metadata": {},
   "outputs": [],
   "source": [
    "# Fit the model\n",
    "# tree.fit(x_train, y_train)"
   ]
  },
  {
   "cell_type": "code",
   "execution_count": null,
   "metadata": {},
   "outputs": [],
   "source": [
    "#  Make predictions using test data\n",
    "print(bank_test.head())"
   ]
  },
  {
   "cell_type": "code",
   "execution_count": null,
   "metadata": {},
   "outputs": [],
   "source": [
    "# remember to drop 'id' from the test dataset \n",
    "# predictions = tree.predict(bank_test.drop(['id'], axis=1))\n",
    "# print(predictions[:5])"
   ]
  },
  {
   "cell_type": "code",
   "execution_count": null,
   "metadata": {},
   "outputs": [],
   "source": [
    "# Write the columns 'id' and 'predictions' into the output file\n",
    "# d = pd.DataFrame({'id': bank_test['id'], 'bank_predicted': predictions})"
   ]
  },
  {
   "cell_type": "code",
   "execution_count": null,
   "metadata": {},
   "outputs": [],
   "source": [
    "# Write the output\n",
    "# d.to_csv('output/bank_predictions.csv', sep=\",\")"
   ]
  },
  {
   "cell_type": "code",
   "execution_count": null,
   "metadata": {},
   "outputs": [],
   "source": []
  },
  {
   "cell_type": "code",
   "execution_count": null,
   "metadata": {},
   "outputs": [],
   "source": []
  },
  {
   "cell_type": "code",
   "execution_count": null,
   "metadata": {},
   "outputs": [],
   "source": []
  },
  {
   "cell_type": "code",
   "execution_count": null,
   "metadata": {},
   "outputs": [],
   "source": []
  },
  {
   "cell_type": "code",
   "execution_count": null,
   "metadata": {},
   "outputs": [],
   "source": []
  }
 ],
 "metadata": {
  "kernelspec": {
   "display_name": "Python 3",
   "language": "python",
   "name": "python3"
  },
  "language_info": {
   "codemirror_mode": {
    "name": "ipython",
    "version": 3
   },
   "file_extension": ".py",
   "mimetype": "text/x-python",
   "name": "python",
   "nbconvert_exporter": "python",
   "pygments_lexer": "ipython3",
   "version": "3.7.1"
  }
 },
 "nbformat": 4,
 "nbformat_minor": 2
}

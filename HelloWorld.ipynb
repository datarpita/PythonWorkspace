{
 "cells": [
  {
   "cell_type": "code",
   "execution_count": 1,
   "metadata": {},
   "outputs": [
    {
     "name": "stdout",
     "output_type": "stream",
     "text": [
      "Hello World\n"
     ]
    }
   ],
   "source": [
    "print('Hello World')"
   ]
  },
  {
   "cell_type": "code",
   "execution_count": 4,
   "metadata": {},
   "outputs": [
    {
     "name": "stdout",
     "output_type": "stream",
     "text": [
      "Sum: 17\n"
     ]
    }
   ],
   "source": [
    "a=9\n",
    "b=8\n",
    "print ('Sum:',a+b)"
   ]
  },
  {
   "cell_type": "code",
   "execution_count": 6,
   "metadata": {},
   "outputs": [
    {
     "name": "stdout",
     "output_type": "stream",
     "text": [
      "AND: False\n",
      "OR: True\n"
     ]
    }
   ],
   "source": [
    "a=True\n",
    "b=False\n",
    "print('AND:', a and b)\n",
    "print('OR:', a or b)"
   ]
  },
  {
   "cell_type": "code",
   "execution_count": 12,
   "metadata": {},
   "outputs": [
    {
     "name": "stdout",
     "output_type": "stream",
     "text": [
      "Kumar\n"
     ]
    }
   ],
   "source": [
    "str='Kumar_Ravi_003'\n",
    "new_str = str.split('_')[0]\n",
    "print(new_str)"
   ]
  },
  {
   "cell_type": "code",
   "execution_count": 14,
   "metadata": {},
   "outputs": [
    {
     "name": "stdout",
     "output_type": "stream",
     "text": [
      "After modify: 4Arpita  Datta*%\n"
     ]
    }
   ],
   "source": [
    "str='4Arpita  Datta*%&&&&&'\n",
    "print('After modify:' ,str.rstrip('&'))"
   ]
  },
  {
   "cell_type": "code",
   "execution_count": 16,
   "metadata": {},
   "outputs": [
    {
     "name": "stdout",
     "output_type": "stream",
     "text": [
      "Sum= 14\n",
      "Now string: 5.3\n"
     ]
    }
   ],
   "source": [
    "a=7\n",
    "print('Sum=', a+7)\n",
    "a=a+8.9\n",
    "print('Now string:',a/3)"
   ]
  },
  {
   "cell_type": "code",
   "execution_count": 19,
   "metadata": {},
   "outputs": [
    {
     "name": "stdout",
     "output_type": "stream",
     "text": [
      "Factorial:  120 2.23606797749979\n"
     ]
    }
   ],
   "source": [
    "from math import factorial, sqrt\n",
    "n=5\n",
    "print('Factorial: ', factorial(n), sqrt(n))"
   ]
  },
  {
   "cell_type": "code",
   "execution_count": 24,
   "metadata": {},
   "outputs": [
    {
     "name": "stdout",
     "output_type": "stream",
     "text": [
      "Enter a number:\n",
      "4\n",
      "The factorial of  4  is  24\n"
     ]
    }
   ],
   "source": [
    "from math import factorial\n",
    "print ('Enter a number:')\n",
    "num = input()\n",
    "print ('The factorial of ', num , ' is ', factorial(int(num)))"
   ]
  },
  {
   "cell_type": "code",
   "execution_count": 26,
   "metadata": {},
   "outputs": [
    {
     "data": {
      "text/plain": [
       "str"
      ]
     },
     "execution_count": 26,
     "metadata": {},
     "output_type": "execute_result"
    }
   ],
   "source": [
    "s=\"Arpita\"\n",
    "type(s[3])"
   ]
  },
  {
   "cell_type": "code",
   "execution_count": 4,
   "metadata": {},
   "outputs": [
    {
     "name": "stdout",
     "output_type": "stream",
     "text": [
      "This is\n",
      "a multi-line string\n"
     ]
    }
   ],
   "source": [
    "# Multi-line strings\n",
    "s1 = \"\"\"This is\n",
    "a multi-line string\"\"\"\n",
    "print(s1)"
   ]
  },
  {
   "cell_type": "code",
   "execution_count": 12,
   "metadata": {},
   "outputs": [
    {
     "name": "stdout",
     "output_type": "stream",
     "text": [
      "List values: [1.23, 'apple', 4]\n",
      "New List: ['a', 'p', 'p', 'l', 'e']\n"
     ]
    }
   ],
   "source": [
    "#Lists \n",
    "list1 =  []  #empty list\n",
    "list1.append(1.23)\n",
    "list1.append(\"apple\")\n",
    "list1.append(4)\n",
    "print(\"List values:\", list1)\n",
    "list2 = list(\"apple\") #creating list using constructor\n",
    "print(\"New List:\", list2)"
   ]
  },
  {
   "cell_type": "code",
   "execution_count": 13,
   "metadata": {
    "scrolled": true
   },
   "outputs": [
    {
     "name": "stdout",
     "output_type": "stream",
     "text": [
      "New dictionary created {'kolkata': 334232, 'delhi': 325543, 'mumbai': 113133, 'chennai': 897322}\n",
      "Population of Mumbai is 113133\n",
      "updated population of delhi is 887686\n",
      "New city appended, entire dictionary now is {'kolkata': 334232, 'delhi': 887686, 'mumbai': 113133, 'chennai': 897322, 'hyderabad': 883213}\n"
     ]
    }
   ],
   "source": [
    "#dict -- dictionaries\n",
    "dict1 = {\"kolkata\":334232, \"delhi\":325543, \"mumbai\":113133, \"chennai\":897322}\n",
    "print(\"New dictionary created\", dict1)\n",
    "print(\"Population of Mumbai is\", dict1[\"mumbai\"])\n",
    "dict1[\"delhi\"] = 887686\n",
    "print (\"updated population of delhi is\", dict1[\"delhi\"])\n",
    "dict1[\"hyderabad\"] = 883213\n",
    "print(\"New city appended, entire dictionary now is\", dict1)"
   ]
  },
  {
   "cell_type": "code",
   "execution_count": 15,
   "metadata": {},
   "outputs": [
    {
     "name": "stdout",
     "output_type": "stream",
     "text": [
      "City: kolkata    Population: 334232\n",
      "City: delhi    Population: 887686\n",
      "City: mumbai    Population: 113133\n",
      "City: chennai    Population: 897322\n",
      "City: hyderabad    Population: 883213\n"
     ]
    }
   ],
   "source": [
    "#For loop\n",
    "for city in dict1:\n",
    "    print (\"City:\",city, \"   Population:\", dict1[city])"
   ]
  },
  {
   "cell_type": "code",
   "execution_count": 17,
   "metadata": {},
   "outputs": [
    {
     "name": "stdout",
     "output_type": "stream",
     "text": [
      "All words: ['It', 'was', 'the', 'best', 'of', 'times', 'it', 'was', 'the', 'worst', 'of', 'times', 'it', 'was', 'the', 'age', 'of', 'wisdom', 'it', 'was', 'the', 'age', 'of', 'foolishness', 'it', 'was', 'the', 'epoch', 'of', 'belief', 'it', 'was', 'the', 'epoch', 'of', 'incredulity', 'it', 'was', 'the', 'season', 'of', 'Light', 'it', 'was', 'the', 'season', 'of', 'Darkness', 'it', 'was', 'the', 'spring', 'of', 'hope', 'it', 'was', 'the', 'winter', 'of', 'despair', 'we', 'had', 'everything', 'before', 'us', 'we', 'had', 'nothing', 'before', 'us', 'we', 'were', 'all', 'going', 'direct', 'to', 'Heaven', 'we', 'were', 'all', 'going', 'direct', 'the', 'other', 'way', 'in', 'short', 'the', 'period', 'was', 'so', 'far', 'like', 'the', 'present', 'period', 'that', 'some', 'of', 'its', 'noisiest', 'authorities', 'insisted', 'on', 'its', 'being', 'received', 'for', 'good', 'or', 'for', 'evil', 'in', 'the', 'superlative', 'degree', 'of', 'comparison', 'only']\n"
     ]
    }
   ],
   "source": [
    "from urllib.request import urlopen\n",
    "with urlopen(\"http://sixty-north.com/c/t.txt\") as  story:\n",
    "    word_list = []\n",
    "    for line in story:\n",
    "        words = line.split()\n",
    "        for word in words:\n",
    "            word_list.append(word.decode(\"utf8\")) #original text contains words in bytes format\n",
    "print (\"All words:\", word_list)"
   ]
  },
  {
   "cell_type": "code",
   "execution_count": null,
   "metadata": {},
   "outputs": [],
   "source": []
  }
 ],
 "metadata": {
  "kernelspec": {
   "display_name": "Python 3",
   "language": "python",
   "name": "python3"
  },
  "language_info": {
   "codemirror_mode": {
    "name": "ipython",
    "version": 3
   },
   "file_extension": ".py",
   "mimetype": "text/x-python",
   "name": "python",
   "nbconvert_exporter": "python",
   "pygments_lexer": "ipython3",
   "version": "3.7.0"
  }
 },
 "nbformat": 4,
 "nbformat_minor": 2
}

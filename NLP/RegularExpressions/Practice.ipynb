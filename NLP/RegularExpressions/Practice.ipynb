{
 "cells": [
  {
   "cell_type": "code",
   "execution_count": 14,
   "metadata": {},
   "outputs": [
    {
     "name": "stdout",
     "output_type": "stream",
     "text": [
      "$uilding careers of tomorrow\n",
      "True\n"
     ]
    }
   ],
   "source": [
    "import re\n",
    "import ast, sys\n",
    "string = 'Building careers of tomorrow'\n",
    "\n",
    "# regex pattern\n",
    "pattern = '^.'# write a regex that detects the first character of a string\n",
    "\n",
    "# replacement string\n",
    "replacement = '$'# write the replacement string\n",
    "\n",
    "# check whether pattern is present in string or not\n",
    "result = re.sub(pattern, replacement, string) # pass the parameters to the sub function\n",
    "print(result)\n",
    "\n",
    "# evaluate result - don't change the following piece of code, it is used to evaluate your regex\n",
    "print(result[0] == '$')"
   ]
  },
  {
   "cell_type": "markdown",
   "metadata": {},
   "source": [
    "Write a regular expression to extract all the words from a given sentence. Then use the re.finditer() function and store all the matched words that are of length more than or equal to 5 letters in a separate list called result."
   ]
  },
  {
   "cell_type": "code",
   "execution_count": 25,
   "metadata": {},
   "outputs": [
    {
     "name": "stdout",
     "output_type": "stream",
     "text": [
      "<callable_iterator object at 0x00000165C37E8278>\n",
      "6\n"
     ]
    }
   ],
   "source": [
    "import re\n",
    "import ast, sys\n",
    "string = 'Do not compare apples with oranges. Compare apples with apples'\n",
    "\n",
    "# regex pattern\n",
    "pattern = '\\S+'# write regex to extract all the words from a given piece of text\n",
    "print(re.finditer(pattern,string))\n",
    "\n",
    "# store results in the list 'result'\n",
    "result = []\n",
    "\n",
    "# iterate over the matches\n",
    "for match in re.finditer(pattern,string):# replace the ___ with the 'finditer' function to extract 'pattern' from the 'string'\n",
    "    #print(len(match.group()))\n",
    "     if len(match.group()) >= 5:\n",
    "        result.append(match)\n",
    "     else:\n",
    "         continue\n",
    "\n",
    "# evaluate result - don't change the following piece of code, it is used to evaluate your regex\n",
    "print(len(result))"
   ]
  },
  {
   "cell_type": "markdown",
   "metadata": {},
   "source": [
    "Write a regular expression to extract all the words that have the suffix ‘ing’ using the re.findall() function. Store the matches in the variable ‘results’ and print its length.\n"
   ]
  },
  {
   "cell_type": "code",
   "execution_count": 29,
   "metadata": {},
   "outputs": [
    {
     "name": "stdout",
     "output_type": "stream",
     "text": [
      "['Play', 'rain']\n",
      "2\n"
     ]
    }
   ],
   "source": [
    "import re\n",
    "import ast, sys\n",
    "string = 'Playing outdoor games when its raining outside is always fun!'\n",
    "\n",
    "# regex pattern\n",
    "pattern = '(\\S+)ing'# write regex to extract words ending with 'ing'\n",
    "\n",
    "# store results in the list 'result'\n",
    "result = re.findall(pattern, string)# extract words having the required pattern, using the findall function\n",
    "print(result)\n",
    "\n",
    "# evaluate result - don't change the following piece of code, it is used to evaluate your regex\n",
    "print(len(result))"
   ]
  },
  {
   "cell_type": "markdown",
   "metadata": {},
   "source": [
    "You have a string which contains a data in the format DD-MM-YYYY. Write a regular expression to extract the date from the string.\n",
    "\n",
    "Sample input:\n",
    "\"Today’s date is 18-05-2018.\"\n",
    "\n",
    "Sample output:\n",
    "18-05-2018"
   ]
  },
  {
   "cell_type": "code",
   "execution_count": 34,
   "metadata": {},
   "outputs": [
    {
     "name": "stdout",
     "output_type": "stream",
     "text": [
      "<re.Match object; span=(16, 26), match='18-05-2018'>\n",
      "18-05-2018\n"
     ]
    }
   ],
   "source": [
    "import re\n",
    "import ast, sys\n",
    "string = 'Today’s date is 18-05-2018.'\n",
    "\n",
    "# regex pattern\n",
    "pattern = '\\d{1,2}-\\d{1,2}-\\d{4}'# write regex to extract date in DD-MM-YYYY format\n",
    "\n",
    "# store result\n",
    "result = re.search(pattern, string)  # pass the parameters to the re.search() function\n",
    "print (result)\n",
    "\n",
    "# evaluate result - don't change the following piece of code, it is used to evaluate your regex\n",
    "if result != None:\n",
    "    print(result.group(0))  # result.group(0) will output the entire match\n",
    "else:\n",
    "    print(False)"
   ]
  },
  {
   "cell_type": "markdown",
   "metadata": {},
   "source": [
    "In the last exercise, you had extracted the date from a given string. In this coding exercise, write the same regular expression. But this time, use grouping to extract the month from the date. The expected date format is DD-MM-YYYY only."
   ]
  },
  {
   "cell_type": "code",
   "execution_count": 38,
   "metadata": {},
   "outputs": [
    {
     "name": "stdout",
     "output_type": "stream",
     "text": [
      "<re.Match object; span=(16, 26), match='18-05-2018'>\n",
      "05\n"
     ]
    }
   ],
   "source": [
    "import re\n",
    "import ast, sys\n",
    "string = 'Today’s date is 18-05-2018.'\n",
    "\n",
    "# regex pattern\n",
    "pattern = '(\\d{1,2})-(\\d{1,2})-(\\d{4})'# write regex to extract date and use grouping to extract month\n",
    "\n",
    "# store result\n",
    "result = re.search(pattern, string)\n",
    "print(result)\n",
    "\n",
    "# extract month using group command\n",
    "if result != None:\n",
    "    month = result.group(2) # extract month using group command\n",
    "else:\n",
    "    month = \"NA\"\n",
    "\n",
    "# evaluate result - don't change the following piece of code, it is used to evaluate your regex\n",
    "print(month)"
   ]
  },
  {
   "cell_type": "markdown",
   "metadata": {},
   "source": [
    "Write a regular expression to extract the domain name from an email address. The format of the email is simple - the part before the ‘@’ symbol contains alphabets, numbers and underscores. The part after the ‘@’ symbol contains only alphabets followed by a dot followed by ‘com’ \n",
    " \n",
    "Sample input: \n",
    "user_name_123@gmail.com \n",
    " \n",
    "Expected output: \n",
    "gmail.com"
   ]
  },
  {
   "cell_type": "code",
   "execution_count": 48,
   "metadata": {},
   "outputs": [
    {
     "name": "stdout",
     "output_type": "stream",
     "text": [
      "<re.Match object; span=(0, 23), match='user_name_123@gmail.com'>\n",
      "gmail.com\n"
     ]
    }
   ],
   "source": [
    "import re\n",
    "import ast, sys\n",
    "string = 'user_name_123@gmail.com'\n",
    "\n",
    "# regex pattern\n",
    "pattern = '(\\w+)@([a-zA-z]+.com)'# write regex to extract email and use groups to extract domain name ofthe mail\n",
    "\n",
    "# store result\n",
    "result = re.search(pattern, string)\n",
    "print(result)\n",
    "\n",
    "# extract domain using group command\n",
    "if result != None:\n",
    "    domain = result.group(2)# use group to extract the domain from result\n",
    "else:\n",
    "    domain = \"NA\"\n",
    "\n",
    "# evaluate result - don't change the following piece of code, it is used to evaluate your regex\n",
    "print(domain)"
   ]
  },
  {
   "cell_type": "markdown",
   "metadata": {},
   "source": [
    "Say you have a list of folders and filenames called 'items' and you want to extract (or read) only some specific files, say images."
   ]
  },
  {
   "cell_type": "code",
   "execution_count": 52,
   "metadata": {},
   "outputs": [
    {
     "name": "stdout",
     "output_type": "stream",
     "text": [
      "['image001.jpg', 'image002.jpg', 'image005.jpg', 'wallpaper.jpg', 'flower.jpg', 'earth.jpg', 'monkey.jpg']\n",
      "['image001.jpg', 'image002.jpg', 'image005.jpg']\n"
     ]
    }
   ],
   "source": [
    "# items contains all the files and folders of current directory\n",
    "items = ['photos', 'documents', 'videos', 'image001.jpg','image002.jpg','image005.jpg', 'wallpaper.jpg',\n",
    "         'flower.jpg', 'earth.jpg', 'monkey.jpg', 'image002.png']\n",
    "\n",
    "# create an empty list to store resultant files\n",
    "images = []\n",
    "\n",
    "# regex pattern to extract files that end with '.jpg'\n",
    "pattern = \".*\\.jpg$\"\n",
    "\n",
    "for item in items:\n",
    "    if re.search(pattern, item):\n",
    "        images.append(item)\n",
    "\n",
    "# print result\n",
    "print(images)\n",
    "\n",
    "# create an empty list to store resultant files\n",
    "images = []\n",
    "\n",
    "# regex pattern to extract files that start with 'image' and end with '.jpg'\n",
    "pattern = \"image.*\\.jpg$\"\n",
    "\n",
    "for item in items:\n",
    "    if re.search(pattern, item):\n",
    "        images.append(item)\n",
    "\n",
    "# print result\n",
    "print(images)"
   ]
  },
  {
   "cell_type": "code",
   "execution_count": null,
   "metadata": {},
   "outputs": [],
   "source": []
  }
 ],
 "metadata": {
  "kernelspec": {
   "display_name": "Python 3",
   "language": "python",
   "name": "python3"
  },
  "language_info": {
   "codemirror_mode": {
    "name": "ipython",
    "version": 3
   },
   "file_extension": ".py",
   "mimetype": "text/x-python",
   "name": "python",
   "nbconvert_exporter": "python",
   "pygments_lexer": "ipython3",
   "version": "3.7.1"
  }
 },
 "nbformat": 4,
 "nbformat_minor": 2
}

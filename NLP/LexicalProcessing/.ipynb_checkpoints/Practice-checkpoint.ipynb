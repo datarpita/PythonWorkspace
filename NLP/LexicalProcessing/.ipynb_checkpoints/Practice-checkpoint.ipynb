{
 "cells": [
  {
   "cell_type": "markdown",
   "metadata": {},
   "source": [
    "You learnt how to extract and plot word frequencies from a list of words. In this exercise, you need to extract the third most frequent word of a book (the book is provided) and print it's frequency."
   ]
  },
  {
   "cell_type": "code",
   "execution_count": 1,
   "metadata": {},
   "outputs": [
    {
     "name": "stdout",
     "output_type": "stream",
     "text": [
      "<FreqDist with 9334 samples and 50765 outcomes>\n",
      "1214\n"
     ]
    }
   ],
   "source": [
    "import requests\n",
    "from nltk import FreqDist\n",
    "\n",
    "# load the ebook\n",
    "url = \"https://www.gutenberg.org/files/16/16-0.txt\"\n",
    "peter_pan = requests.get(url).text\n",
    "\n",
    "# break the book into different words using the split() method\n",
    "peter_pan_words = peter_pan.split()# write your code here\n",
    "\n",
    "# build frequency distribution using NLTK's FreqDist() function\n",
    "word_frequency = FreqDist(peter_pan_words)# write your code here\n",
    "print(word_frequency)\n",
    "\n",
    "# extract the frequency of third most frequent word\n",
    "freq = word_frequency.most_common(3)[2][1]\n",
    "\n",
    "# print the third most frequent word - don't change the following code, it is used to evaluate the code\n",
    "print(freq)"
   ]
  },
  {
   "cell_type": "markdown",
   "metadata": {},
   "source": [
    "In this exercise, you'll remove stop words in a given corpus of text of a book. Then, you'll print the frequency of the most frequent word."
   ]
  },
  {
   "cell_type": "code",
   "execution_count": 2,
   "metadata": {},
   "outputs": [
    {
     "name": "stdout",
     "output_type": "stream",
     "text": [
      "253\n"
     ]
    }
   ],
   "source": [
    "import requests\n",
    "from nltk import FreqDist\n",
    "from nltk.corpus import stopwords\n",
    "\n",
    "# load the ebook\n",
    "url = \"https://www.gutenberg.org/files/16/16-0.txt\"\n",
    "peter_pan = requests.get(url).text\n",
    "\n",
    "# break the book into different words using the split() method\n",
    "peter_pan_words = peter_pan.split()\n",
    "\n",
    "# build frequency distribution using NLTK's FreqDist() function\n",
    "word_frequency = FreqDist(peter_pan_words)\n",
    "\n",
    "# extract nltk stop word list\n",
    "stopwords = stopwords.words('english')\n",
    "\n",
    "# remove 'stopwords' from 'peter_pan_words'\n",
    "no_stops = [w for w in peter_pan_words if w not in stopwords]# write code here\n",
    "\n",
    "# create word frequency of no_stops\n",
    "word_frequency = FreqDist(no_stops)# write code here\n",
    "\n",
    "# extract the most frequent word and its frequency\n",
    "frequency = word_frequency.most_common(1)[0][1]\n",
    "\n",
    "# print the third most frequent word - don't change the following code, it is used to evaluate the code\n",
    "print(frequency)"
   ]
  },
  {
   "cell_type": "code",
   "execution_count": null,
   "metadata": {},
   "outputs": [],
   "source": []
  }
 ],
 "metadata": {
  "kernelspec": {
   "display_name": "Python 3",
   "language": "python",
   "name": "python3"
  },
  "language_info": {
   "codemirror_mode": {
    "name": "ipython",
    "version": 3
   },
   "file_extension": ".py",
   "mimetype": "text/x-python",
   "name": "python",
   "nbconvert_exporter": "python",
   "pygments_lexer": "ipython3",
   "version": "3.6.5"
  }
 },
 "nbformat": 4,
 "nbformat_minor": 2
}

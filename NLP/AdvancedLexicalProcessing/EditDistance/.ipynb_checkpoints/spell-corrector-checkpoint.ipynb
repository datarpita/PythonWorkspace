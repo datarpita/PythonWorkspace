{
 "cells": [
  {
   "cell_type": "code",
   "execution_count": 1,
   "metadata": {},
   "outputs": [],
   "source": [
    "import re\n",
    "from collections import Counter"
   ]
  },
  {
   "cell_type": "code",
   "execution_count": 2,
   "metadata": {},
   "outputs": [],
   "source": [
    "# function to tokenise words\n",
    "def words(document):\n",
    "    \"Convert text to lower case and tokenise the document\"\n",
    "    return re.findall(r'\\w+', document.lower())"
   ]
  },
  {
   "cell_type": "code",
   "execution_count": 3,
   "metadata": {},
   "outputs": [],
   "source": [
    "# create a frequency table of all the words of the document\n",
    "all_words = Counter(words(open('big.txt').read()))"
   ]
  },
  {
   "cell_type": "code",
   "execution_count": 4,
   "metadata": {},
   "outputs": [
    {
     "data": {
      "text/plain": [
       "135"
      ]
     },
     "execution_count": 4,
     "metadata": {},
     "output_type": "execute_result"
    }
   ],
   "source": [
    "# check frequency of a random word, say, 'chair'\n",
    "all_words['chair']"
   ]
  },
  {
   "cell_type": "code",
   "execution_count": 5,
   "metadata": {},
   "outputs": [
    {
     "data": {
      "text/plain": [
       "[('the', 79809),\n",
       " ('of', 40024),\n",
       " ('and', 38312),\n",
       " ('to', 28765),\n",
       " ('in', 22023),\n",
       " ('a', 21124),\n",
       " ('that', 12512),\n",
       " ('he', 12401),\n",
       " ('was', 11410),\n",
       " ('it', 10681)]"
      ]
     },
     "execution_count": 5,
     "metadata": {},
     "output_type": "execute_result"
    }
   ],
   "source": [
    "# look at top 10 frequent words\n",
    "all_words.most_common(10)"
   ]
  },
  {
   "cell_type": "code",
   "execution_count": 6,
   "metadata": {},
   "outputs": [],
   "source": [
    "def edits_one(word):\n",
    "    \"Create all edits that are one edit away from `word`.\"\n",
    "    alphabets    = 'abcdefghijklmnopqrstuvwxyz'\n",
    "    splits     = [(word[:i], word[i:])                   for i in range(len(word) + 1)]\n",
    "    deletes    = [left + right[1:]                       for left, right in splits if right]\n",
    "    inserts    = [left + c + right                       for left, right in splits for c in alphabets]\n",
    "    replaces   = [left + c + right[1:]                   for left, right in splits if right for c in alphabets]\n",
    "    transposes = [left + right[1] + right[0] + right[2:] for left, right in splits if len(right)>1]\n",
    "    return set(deletes + inserts + replaces + transposes)"
   ]
  },
  {
   "cell_type": "code",
   "execution_count": 7,
   "metadata": {},
   "outputs": [],
   "source": [
    "def edits_two(word):\n",
    "    \"Create all edits that are two edits away from `word`.\"\n",
    "    return (e2 for e1 in edits_one(word) for e2 in edits_one(e1))"
   ]
  },
  {
   "cell_type": "code",
   "execution_count": 8,
   "metadata": {},
   "outputs": [],
   "source": [
    "def known(words):\n",
    "    \"The subset of `words` that appear in the `all_words`.\"\n",
    "    return set(word for word in words if word in all_words)"
   ]
  },
  {
   "cell_type": "code",
   "execution_count": 9,
   "metadata": {},
   "outputs": [],
   "source": [
    "def possible_corrections(word):\n",
    "    \"Generate possible spelling corrections for word.\"\n",
    "    return (known([word]) or known(edits_one(word)) or known(edits_two(word)) or [word])"
   ]
  },
  {
   "cell_type": "code",
   "execution_count": 10,
   "metadata": {},
   "outputs": [],
   "source": [
    "def prob(word, N=sum(all_words.values())): \n",
    "    \"Probability of `word`: Number of appearances of 'word' / total number of tokens\"\n",
    "    return all_words[word] / N"
   ]
  },
  {
   "cell_type": "code",
   "execution_count": 11,
   "metadata": {},
   "outputs": [
    {
     "name": "stdout",
     "output_type": "stream",
     "text": [
      "336\n",
      "{'motnney', 'monnmy', 'monnefy', 'monnen', 'monqney', 'monnney', 'mohney', 'monngy', 'gonney', 'moxnney', 'monneyr', 'monnjy', 'monnel', 'money', 'monnez', 'monny', 'mojnney', 'mknney', 'monnley', 'imonney', 'ronney', 'mxnney', 'monnewy', 'monuney', 'monxey', 'aonney', 'monnvey', 'mosney', 'smonney', 'monnwy', 'monnrey', 'mnney', 'monneyi', 'monkney', 'monwney', 'monnek', 'monoey', 'mounney', 'monnxy', 'monneyx', 'monneyo', 'moiney', 'gmonney', 'uonney', 'monnef', 'moeney', 'myonney', 'mzonney', 'monnqey', 'moonney', 'momnney', 'monley', 'bonney', 'mdonney', 'mgonney', 'mnnney', 'yonney', 'monnay', 'mnoney', 'mondney', 'monpney', 'monneq', 'monqey', 'fonney', 'mofnney', 'munney', 'monnaey', 'minney', 'monneys', 'moqney', 'ymonney', 'jonney', 'modnney', 'monnepy', 'mongney', 'monneuy', 'mozney', 'kmonney', 'omonney', 'qmonney', 'mponney', 'monntey', 'monnes', 'monnry', 'monnjey', 'konney', 'moneny', 'mohnney', 'monneyk', 'moniney', 'mjonney', 'mtnney', 'monnea', 'moncey', 'monnkey', 'vmonney', 'moanney', 'monnej', 'zmonney', 'moynney', 'monsey', 'monndey', 'monnyy', 'moknney', 'nonney', 'qonney', 'mognney', 'ponney', 'monncy', 'mopnney', 'monniey', 'monnby', 'mvonney', 'monneyv', 'moaney', 'monnoy', 'mmonney', 'amonney', 'mznney', 'monnedy', 'monneye', 'monnehy', 'monnbey', 'moxney', 'mjnney', 'monwey', 'monnyey', 'moncney', 'monneyj', 'morney', 'monuey', 'emonney', 'monnwey', 'monneb', 'monnhy', 'monnpey', 'monneyf', 'mqonney', 'monxney', 'moneney', 'muonney', 'monneo', 'monne', 'monbey', 'mobnney', 'monnem', 'moqnney', 'monnty', 'fmonney', 'monneg', 'mronney', 'mouney', 'monner', 'monnet', 'moneey', 'mwonney', 'mopney', 'monnejy', 'msnney', 'moenney', 'monnuy', 'mlnney', 'monnqy', 'monnezy', 'monvey', 'mtonney', 'nmonney', 'menney', 'monneey', 'monnexy', 'mxonney', 'monnsey', 'mhnney', 'sonney', 'monmney', 'mongey', 'monneyy', 'umonney', 'monpey', 'monlney', 'xmonney', 'monnny', 'mfnney', 'mojney', 'movnney', 'monyney', 'mbnney', 'monaey', 'mfonney', 'monzney', 'monrney', 'xonney', 'monneyn', 'monncey', 'monneyl', 'mocnney', 'monnew', 'monneqy', 'monned', 'mobney', 'monhney', 'monneyb', 'oonney', 'monnec', 'molnney', 'lmonney', 'conney', 'montney', 'cmonney', 'mnonney', 'mhonney', 'monnvy', 'mokney', 'monneby', 'monnecy', 'monneyt', 'bmonney', 'monnex', 'moinney', 'mosnney', 'monnpy', 'mdnney', 'monkey', 'manney', 'rmonney', 'monndy', 'monnzy', 'monneya', 'monnfy', 'monfney', 'mocney', 'monneyh', 'monrey', 'monhey', 'monnye', 'mogney', 'monbney', 'monnuey', 'pmonney', 'dmonney', 'vonney', 'zonney', 'monnxey', 'monneny', 'monfey', 'tmonney', 'monneh', 'mkonney', 'monnoey', 'monnmey', 'mlonney', 'moznney', 'mpnney', 'mondey', 'monnev', 'mcnney', 'monneyp', 'msonney', 'movney', 'monjney', 'motney', 'omnney', 'mconney', 'monnfey', 'monvney', 'monnety', 'monnly', 'eonney', 'monzey', 'mwnney', 'mynney', 'montey', 'monnzey', 'monngey', 'modney', 'monnhey', 'ionney', 'honney', 'lonney', 'mrnney', 'monneiy', 'molney', 'monnsy', 'mownney', 'mqnney', 'monnevy', 'monnely', 'maonney', 'monneky', 'tonney', 'monneyc', 'monmey', 'mvnney', 'monneyd', 'wonney', 'monnky', 'monnery', 'mgnney', 'monnep', 'mowney', 'wmonney', 'monneoy', 'monneym', 'monneay', 'monneyq', 'meonney', 'monneyg', 'monneu', 'monnegy', 'mmnney', 'momney', 'monnesy', 'mofney', 'hmonney', 'mooney', 'jmonney', 'moniey', 'monsney', 'monneyw', 'mononey', 'monniy', 'monneyu', 'monyey', 'donney', 'monjey', 'onney', 'mionney', 'monnei', 'mbonney', 'monneyz', 'monney', 'moyney', 'monnee', 'monaney', 'monnemy', 'mornney'}\n"
     ]
    }
   ],
   "source": [
    "print(len(set(edits_one(\"monney\"))))\n",
    "print(edits_one(\"monney\"))"
   ]
  },
  {
   "cell_type": "code",
   "execution_count": 12,
   "metadata": {
    "scrolled": true
   },
   "outputs": [
    {
     "name": "stdout",
     "output_type": "stream",
     "text": [
      "442\n",
      "{'emfaesize', 'emzfasize', 'emfasihze', 'emfasilze', 'emfasiye', 'emfasiae', 'emfaspize', 'edmfasize', 'emfaszie', 'emfasizm', 'emfashze', 'emfasigze', 'emfnasize', 'emfasicze', 'emfasizo', 'emfazize', 'emuasize', 'emfassize', 'emfgsize', 'emfasixe', 'emfasizx', 'emlasize', 'emfasiaze', 'emfxasize', 'emgasize', 'etmfasize', 'emfamize', 'emkfasize', 'emfapize', 'emfasizxe', 'emwasize', 'emhfasize', 'emfasivze', 'emeasize', 'emfausize', 'emfaisize', 'emfrasize', 'emfasizee', 'emfasipe', 'emfisize', 'eamfasize', 'emfasizfe', 'emfasiie', 'emcasize', 'exfasize', 'emfhasize', 'ymfasize', 'emfaswze', 'emfasizp', 'emfcasize', 'emfasikze', 'emfasdize', 'emwfasize', 'emfasmze', 'semfasize', 'jemfasize', 'emcfasize', 'emoasize', 'emftsize', 'emufasize', 'emfasiz', 'emfasizej', 'ebmfasize', 'emfasike', 'emfjasize', 'ecmfasize', 'emfasizey', 'emfauize', 'emfasizi', 'emfaiize', 'evmfasize', 'hemfasize', 'emfadize', 'edfasize', 'emfayize', 'emfansize', 'emfsasize', 'emfasizie', 'emhasize', 'emfasizl', 'ehfasize', 'emfasije', 'emfatsize', 'emfasizeg', 'oemfasize', 'emfuasize', 'emfasizes', 'emfatize', 'embfasize', 'emfasxze', 'emfasice', 'emfasife', 'emfaasize', 'emfasizle', 'rmfasize', 'emfasxize', 'emfalize', 'emtfasize', 'emjfasize', 'emfasfize', 'emyasize', 'iemfasize', 'emafasize', 'emfamsize', 'emfasizet', 'empasize', 'memfasize', 'emqasize', 'emfavize', 'emfasdze', 'kmfasize', 'evfasize', 'emfasige', 'emfasizh', 'emfasbize', 'emfasizne', 'ecfasize', 'emfaaize', 'emfasize', 'omfasize', 'lemfasize', 'emmfasize', 'emfastize', 'emfasizk', 'emfasizei', 'emfaszze', 'emfasiez', 'emifasize', 'vemfasize', 'emfdsize', 'emfacsize', 'emfzsize', 'emfhsize', 'cemfasize', 'emfasqize', 'elfasize', 'emftasize', 'emfasile', 'emflasize', 'emfajize', 'emfasihe', 'emfawsize', 'emfaslze', 'mefasize', 'eufasize', 'nmfasize', 'emdasize', 'emfabize', 'emfahize', 'emfasizu', 'emfasoize', 'emfasbze', 'emfasisze', 'emfasizec', 'emfasibze', 'jmfasize', 'esmfasize', 'emfasijze', 'ejfasize', 'emfasvize', 'emfakize', 'emfasizze', 'emfsize', 'emfasinze', 'emfoasize', 'emfasizue', 'emfaxize', 'efmasize', 'empfasize', 'emfasizt', 'eomfasize', 'emfabsize', 'tmfasize', 'emfasiwe', 'emfvasize', 'mmfasize', 'emfasizr', 'emkasize', 'emfasrize', 'emfasipze', 'emfaslize', 'wemfasize', 'emfavsize', 'emlfasize', 'emfmasize', 'etfasize', 'emfasizs', 'emfasioe', 'emtasize', 'demfasize', 'emfasizpe', 'emfasaize', 'emfasibe', 'emdfasize', 'emfasixze', 'emzasize', 'emfasizg', 'eimfasize', 'emafsize', 'emfwasize', 'emfeasize', 'emfasyize', 'emfasiue', 'emrasize', 'emfasidze', 'emfapsize', 'emfadsize', 'emfaszize', 'emfksize', 'emnfasize', 'emfasaze', 'emfzasize', 'emffsize', 'emfascize', 'emfascze', 'emfasizye', 'emfasizse', 'emfesize', 'emfaoize', 'eymfasize', 'emfasizeb', 'emfaksize', 'emfasizce', 'emfaspze', 'gemfasize', 'emmasize', 'emfafsize', 'emsasize', 'lmfasize', 'emfasiuze', 'emgfasize', 'emfassze', 'emfaqsize', 'emfusize', 'yemfasize', 'emfasise', 'kemfasize', 'enfasize', 'emfawize', 'emfasizae', 'emfasite', 'remfasize', 'ermfasize', 'cmfasize', 'qemfasize', 'emfarize', 'emfdasize', 'emfasizel', 'emfaskize', 'emfkasize', 'epfasize', 'mfasize', 'femfasize', 'emfasizem', 'emfaswize', 'zmfasize', 'emfasqze', 'emfcsize', 'ewfasize', 'emfasizoe', 'emfasimze', 'emfaqize', 'emfasitze', 'emfysize', 'eumfasize', 'emfwsize', 'emfasnize', 'emfasifze', 'emqfasize', 'emfasyze', 'bemfasize', 'emiasize', 'ezmfasize', 'emfasire', 'emfasizwe', 'emfasjze', 'egfasize', 'emfaseize', 'eofasize', 'emfaside', 'emfafize', 'emfnsize', 'emfasizf', 'emfasizte', 'emfasizer', 'emfasie', 'emfasizw', 'emfiasize', 'emfasizeh', 'epmfasize', 'emfahsize', 'amfasize', 'emefasize', 'elmfasize', 'emfasizea', 'emfpasize', 'emfasizme', 'emfbsize', 'emfasizc', 'emfaxsize', 'emsfasize', 'emfasmize', 'emfaosize', 'emfasizhe', 'emfasizq', 'emfasizre', 'emfasine', 'emfasizqe', 'emfasizex', 'egmfasize', 'emfjsize', 'emfasjize', 'emrfasize', 'vmfasize', 'emfasizke', 'eemfasize', 'ejmfasize', 'emfasiee', 'ewmfasize', 'embasize', 'emfazsize', 'emxfasize', 'effasize', 'exmfasize', 'eifasize', 'emfaseze', 'emfasfze', 'ehmfasize', 'emfasizen', 'emfgasize', 'emfaeize', 'eefasize', 'hmfasize', 'efasize', 'efmfasize', 'eyfasize', 'emfasiize', 'ezfasize', 'emfanize', 'emfasizj', 'emfasrze', 'emfalsize', 'emasize', 'pemfasize', 'emfasizde', 'emfasieze', 'xemfasize', 'emfaisze', 'emfasizn', 'emfasizek', 'emfajsize', 'emfasizb', 'emfasizev', 'imfasize', 'emnasize', 'eafasize', 'emfasizd', 'emfasgze', 'emfasoze', 'emfasgize', 'wmfasize', 'emfasizge', 'emaasize', 'emfrsize', 'emfasive', 'emfasze', 'emfashize', 'xmfasize', 'emfacize', 'umfasize', 'emfssize', 'aemfasize', 'enmfasize', 'emfpsize', 'emfasuize', 'emfasizv', 'emfmsize', 'emfasuze', 'emfbasize', 'emfasizje', 'emfqasize', 'temfasize', 'gmfasize', 'emvasize', 'emfyasize', 'ebfasize', 'emfasizew', 'emfasnze', 'emfasizef', 'uemfasize', 'emfasiqe', 'emfaysize', 'emfasiza', 'emfasiwze', 'esfasize', 'eqmfasize', 'pmfasize', 'emfasvze', 'emfasirze', 'emfasizve', 'emfasizep', 'emfasiqze', 'bmfasize', 'emfsaize', 'emfasized', 'emofasize', 'dmfasize', 'emffasize', 'emjasize', 'emfqsize', 'emfastze', 'emfarsize', 'zemfasize', 'emfagsize', 'emfxsize', 'emfasizeo', 'fmfasize', 'nemfasize', 'emfasizbe', 'emfasiyze', 'emfasizy', 'emflsize', 'erfasize', 'smfasize', 'ekmfasize', 'emfasizeq', 'eqfasize', 'emfasioze', 'emfasizz', 'emfaskze', 'qmfasize', 'ekfasize', 'emfosize', 'emvfasize', 'emxasize', 'emyfasize', 'emfvsize', 'emfaize', 'emfasizez', 'emfagize', 'emfasime', 'emfasizeu'}\n"
     ]
    }
   ],
   "source": [
    "print(len(set(edits_one(\"emfasize\"))))\n",
    "print(edits_one(\"emfasize\"))"
   ]
  },
  {
   "cell_type": "code",
   "execution_count": null,
   "metadata": {},
   "outputs": [],
   "source": []
  },
  {
   "cell_type": "code",
   "execution_count": null,
   "metadata": {},
   "outputs": [],
   "source": [
    "print(known(edits_one(\"monney\")))"
   ]
  },
  {
   "cell_type": "code",
   "execution_count": null,
   "metadata": {},
   "outputs": [],
   "source": []
  },
  {
   "cell_type": "code",
   "execution_count": null,
   "metadata": {},
   "outputs": [],
   "source": [
    "# Let's look at words that are two edits away\n",
    "print(len(set(edits_two(\"monney\"))))\n",
    "print(known(edits_one(\"monney\")))"
   ]
  },
  {
   "cell_type": "code",
   "execution_count": null,
   "metadata": {},
   "outputs": [],
   "source": [
    "# Let's look at possible corrections of a word\n",
    "print(possible_corrections(\"monney\"))"
   ]
  },
  {
   "cell_type": "code",
   "execution_count": null,
   "metadata": {},
   "outputs": [],
   "source": [
    "# Let's look at probability of a word\n",
    "print(prob(\"money\"))\n",
    "print(prob(\"monkey\"))"
   ]
  },
  {
   "cell_type": "code",
   "execution_count": null,
   "metadata": {},
   "outputs": [],
   "source": [
    "def spell_check(word):\n",
    "    \"Print the most probable spelling correction for `word` out of all the `possible_corrections`\"\n",
    "    correct_word = max(possible_corrections(word), key=prob)\n",
    "    if correct_word != word:\n",
    "        return \"Did you mean \" + correct_word + \"?\"\n",
    "    else:\n",
    "        return \"Correct spelling.\""
   ]
  },
  {
   "cell_type": "code",
   "execution_count": null,
   "metadata": {},
   "outputs": [],
   "source": [
    "# test spell check\n",
    "print(spell_check(\"monney\"))"
   ]
  }
 ],
 "metadata": {
  "kernelspec": {
   "display_name": "Python 3",
   "language": "python",
   "name": "python3"
  },
  "language_info": {
   "codemirror_mode": {
    "name": "ipython",
    "version": 3
   },
   "file_extension": ".py",
   "mimetype": "text/x-python",
   "name": "python",
   "nbconvert_exporter": "python",
   "pygments_lexer": "ipython3",
   "version": "3.7.1"
  }
 },
 "nbformat": 4,
 "nbformat_minor": 2
}
